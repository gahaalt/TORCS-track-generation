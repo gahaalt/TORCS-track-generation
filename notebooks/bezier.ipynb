{
  "nbformat": 4,
  "nbformat_minor": 0,
  "metadata": {
    "kernelspec": {
      "display_name": "Python 3",
      "language": "python",
      "name": "python3"
    },
    "language_info": {
      "codemirror_mode": {
        "name": "ipython",
        "version": 3
      },
      "file_extension": ".py",
      "mimetype": "text/x-python",
      "name": "python",
      "nbconvert_exporter": "python",
      "pygments_lexer": "ipython3",
      "version": "3.8.3"
    },
    "colab": {
      "name": "bezier.ipynb",
      "provenance": [],
      "collapsed_sections": []
    }
  },
  "cells": [
    {
      "cell_type": "code",
      "metadata": {
        "colab": {
          "base_uri": "https://localhost:8080/"
        },
        "id": "p0Zv_WGi00Ck",
        "outputId": "d231d898-a392-4945-e6ce-85bdd8f96757"
      },
      "source": [
        "!pip install bezier"
      ],
      "execution_count": 1,
      "outputs": [
        {
          "output_type": "stream",
          "text": [
            "Collecting bezier\n",
            "\u001b[?25l  Downloading https://files.pythonhosted.org/packages/39/2c/5e002f45ddb1c531e9f8cf54fe6dd018da28ed4a1071ababd5333c16819d/bezier-2020.5.19-cp36-cp36m-manylinux2010_x86_64.whl (1.4MB)\n",
            "\u001b[K     |████████████████████████████████| 1.4MB 5.7MB/s \n",
            "\u001b[?25hRequirement already satisfied: numpy>=1.18.1 in /usr/local/lib/python3.6/dist-packages (from bezier) (1.19.5)\n",
            "Installing collected packages: bezier\n",
            "Successfully installed bezier-2020.5.19\n"
          ],
          "name": "stdout"
        }
      ]
    },
    {
      "cell_type": "code",
      "metadata": {
        "id": "3SLBn3ol0jGO"
      },
      "source": [
        "import bezier\n",
        "import matplotlib.pyplot as plt\n",
        "import numpy as np\n",
        "import random\n",
        "from scipy.spatial import ConvexHull\n",
        "from functools import reduce"
      ],
      "execution_count": 56,
      "outputs": []
    },
    {
      "cell_type": "markdown",
      "metadata": {
        "id": "Gu_xjNjd0jGb"
      },
      "source": [
        "# Translation points to Bezier representation"
      ]
    },
    {
      "cell_type": "code",
      "metadata": {
        "id": "4l4fR9y-0jGc"
      },
      "source": [
        "nodes = np.asfortranarray([\n",
        "        [1, 1.5, 2.5, 3],\n",
        "        [1, 1.5 , 0.5, 1],\n",
        "    ])\n",
        "curve = bezier.Curve(nodes, degree=3)"
      ],
      "execution_count": 3,
      "outputs": []
    },
    {
      "cell_type": "code",
      "metadata": {
        "colab": {
          "base_uri": "https://localhost:8080/",
          "height": 282
        },
        "id": "oAGAWurx0jGe",
        "outputId": "4c8fc1d8-ca5a-4272-cbbf-a2957808bf5c"
      },
      "source": [
        "curve.plot(100)\n",
        "plt.plot([0.01 * i for i in range(100)], [0.01 * i for i in range(100)])\n",
        "plt.plot([0.01 * i + 3 for i in range(100)], [0.01 * i + 1 for i in range(100)])"
      ],
      "execution_count": 4,
      "outputs": [
        {
          "output_type": "execute_result",
          "data": {
            "text/plain": [
              "[<matplotlib.lines.Line2D at 0x7fefc22cce80>]"
            ]
          },
          "metadata": {
            "tags": []
          },
          "execution_count": 4
        },
        {
          "output_type": "display_data",
          "data": {
            "image/png": "[encoded data removed]",
            "text/plain": [
              "<Figure size 432x288 with 1 Axes>"
            ]
          },
          "metadata": {
            "tags": [],
            "needs_background": "light"
          }
        }
      ]
    },
    {
      "cell_type": "code",
      "metadata": {
        "colab": {
          "base_uri": "https://localhost:8080/"
        },
        "id": "_lotqm2G0jGg",
        "outputId": "3c6cf36e-e4eb-460f-9068-c178072e1299"
      },
      "source": [
        "curve.evaluate(0.5).T[0]"
      ],
      "execution_count": 5,
      "outputs": [
        {
          "output_type": "execute_result",
          "data": {
            "text/plain": [
              "array([2., 1.])"
            ]
          },
          "metadata": {
            "tags": []
          },
          "execution_count": 5
        }
      ]
    },
    {
      "cell_type": "code",
      "metadata": {
        "id": "1MJswzI-0jGh"
      },
      "source": [
        "def get_vector(segment):\n",
        "    return np.array(segment[1] - segment[0])"
      ],
      "execution_count": 6,
      "outputs": []
    },
    {
      "cell_type": "code",
      "metadata": {
        "colab": {
          "base_uri": "https://localhost:8080/"
        },
        "id": "Em8Huchf0jGj",
        "outputId": "9fd5841b-d562-478a-f37c-a691ad693af7"
      },
      "source": [
        "get_vector(np.array([[1, 1], [2, 3]]))"
      ],
      "execution_count": 7,
      "outputs": [
        {
          "output_type": "execute_result",
          "data": {
            "text/plain": [
              "array([1, 2])"
            ]
          },
          "metadata": {
            "tags": []
          },
          "execution_count": 7
        }
      ]
    },
    {
      "cell_type": "code",
      "metadata": {
        "id": "zm70dE2A0jGj"
      },
      "source": [
        "def get_track(points, depth = 0.5):\n",
        "    \n",
        "    segments = []\n",
        "    curves = []\n",
        "    for i in range(len(points) // 2):\n",
        "        segments.append([points[2*i], points[2*i+1]])\n",
        "    \n",
        "    segments = np.array(segments)\n",
        "    for i in range(len(segments)):\n",
        "        s1 = segments[i]\n",
        "        s2 = segments[(i + 1) % len(segments)]\n",
        "        \n",
        "        v1 = depth * get_vector(s1)\n",
        "        v2 = depth * get_vector(s2[::-1])\n",
        "        \n",
        "        nodes = np.vstack((s1[1], s1[1] + v1, s2[0] + v2, s2[0])).T\n",
        "        \n",
        "        curves.append(bezier.Curve(nodes, degree=3))\n",
        "    \n",
        "    return segments, curves"
      ],
      "execution_count": 8,
      "outputs": []
    },
    {
      "cell_type": "code",
      "metadata": {
        "id": "e2BH4hyZ0jGk"
      },
      "source": [
        "def draw_track(segments, curves):\n",
        "    for s in segments:\n",
        "        x_values = [s[0][0], s[1][0]]\n",
        "        y_values = [s[0][1], s[1][1]]\n",
        "        plt.plot(x_values, y_values)\n",
        "\n",
        "    i = 0\n",
        "    for c in curves:\n",
        "        xs = [c.evaluate(x).T[0][0] for x in np.linspace(0, 1, 100)]\n",
        "        ys = [c.evaluate(x).T[0][1] for x in np.linspace(0, 1, 100)]\n",
        "\n",
        "        plt.plot(xs, ys)\n",
        "\n",
        "        i += 1\n"
      ],
      "execution_count": 9,
      "outputs": []
    },
    {
      "cell_type": "code",
      "metadata": {
        "colab": {
          "base_uri": "https://localhost:8080/",
          "height": 265
        },
        "id": "vy-wFgE50jGk",
        "outputId": "7e5378c9-4e13-4c14-d260-6cdd457279bf"
      },
      "source": [
        "segments, curves = get_track([[0, 0], [1, 1], [2, 1], [2, 5], [3, 5], [3, -5], [0, -5], [-3, -2]])\n",
        "draw_track(segments, curves)"
      ],
      "execution_count": 10,
      "outputs": [
        {
          "output_type": "display_data",
          "data": {
            "image/png": "[encoded data removed]",
            "text/plain": [
              "<Figure size 432x288 with 1 Axes>"
            ]
          },
          "metadata": {
            "tags": [],
            "needs_background": "light"
          }
        }
      ]
    },
    {
      "cell_type": "code",
      "metadata": {
        "colab": {
          "base_uri": "https://localhost:8080/",
          "height": 265
        },
        "id": "gDfJIxVN0jGm",
        "outputId": "c8fcc274-f020-4898-d7fa-6bbc297cba70"
      },
      "source": [
        "segments, curves = get_track([[0, 0], [1, 1], [2, 2], [2, 0]])\n",
        "draw_track(segments, curves)"
      ],
      "execution_count": 11,
      "outputs": [
        {
          "output_type": "display_data",
          "data": {
            "image/png": "[encoded data removed]",
            "text/plain": [
              "<Figure size 432x288 with 1 Axes>"
            ]
          },
          "metadata": {
            "tags": [],
            "needs_background": "light"
          }
        }
      ]
    },
    {
      "cell_type": "code",
      "metadata": {
        "colab": {
          "base_uri": "https://localhost:8080/",
          "height": 265
        },
        "id": "bIIKluym0jGo",
        "outputId": "07b1333c-0126-4479-b6a4-e33abfe87d20"
      },
      "source": [
        "segments, curves = get_track([[0, 0], [0, 1], [2, 1], [2, 0]])\n",
        "draw_track(segments, curves)"
      ],
      "execution_count": 12,
      "outputs": [
        {
          "output_type": "display_data",
          "data": {
            "image/png": "[encoded data removed]",
            "text/plain": [
              "<Figure size 432x288 with 1 Axes>"
            ]
          },
          "metadata": {
            "tags": [],
            "needs_background": "light"
          }
        }
      ]
    },
    {
      "cell_type": "code",
      "metadata": {
        "colab": {
          "base_uri": "https://localhost:8080/",
          "height": 265
        },
        "id": "M0nBXRji0jGp",
        "outputId": "c36a2a7d-fdd6-4543-e2aa-5255098adffd"
      },
      "source": [
        "segments, curves = get_track([[random.randrange(-10, 10), random.randrange(-10, 10)] for _ in range(8)])\n",
        "draw_track(segments, curves)"
      ],
      "execution_count": 13,
      "outputs": [
        {
          "output_type": "display_data",
          "data": {
            "image/png": "[encoded data removed]",
            "text/plain": [
              "<Figure size 432x288 with 1 Axes>"
            ]
          },
          "metadata": {
            "tags": [],
            "needs_background": "light"
          }
        }
      ]
    },
    {
      "cell_type": "code",
      "metadata": {
        "colab": {
          "base_uri": "https://localhost:8080/",
          "height": 751
        },
        "id": "nZ2DS7zZ0jGp",
        "outputId": "7a354d57-58d7-4c51-85eb-77c47b84c66a"
      },
      "source": [
        "points = np.array([[random.randrange(-10, 10), random.randrange(-10, 10)] for _ in range(19)])\n",
        "\n",
        "print(points)\n",
        "print()\n",
        "print(points[ConvexHull(points).vertices])\n",
        "segments, curves = get_track(points[ConvexHull(points).vertices])\n",
        "draw_track(segments, curves)"
      ],
      "execution_count": 14,
      "outputs": [
        {
          "output_type": "stream",
          "text": [
            "[[ -4  -5]\n",
            " [  1  -7]\n",
            " [  0  -4]\n",
            " [ -3 -10]\n",
            " [ -9  -2]\n",
            " [ -5   4]\n",
            " [  1  -2]\n",
            " [ -3  -8]\n",
            " [  4   5]\n",
            " [ -1   3]\n",
            " [  7   2]\n",
            " [-10   7]\n",
            " [  8   9]\n",
            " [ -8  -8]\n",
            " [ -8   8]\n",
            " [  5   8]\n",
            " [  7  -5]\n",
            " [  6   3]\n",
            " [  8   4]]\n",
            "\n",
            "[[ -3 -10]\n",
            " [  7  -5]\n",
            " [  8   4]\n",
            " [  8   9]\n",
            " [ -8   8]\n",
            " [-10   7]\n",
            " [ -9  -2]\n",
            " [ -8  -8]]\n"
          ],
          "name": "stdout"
        },
        {
          "output_type": "display_data",
          "data": {
            "image/png": "[encoded data removed]",
            "text/plain": [
              "<Figure size 432x288 with 1 Axes>"
            ]
          },
          "metadata": {
            "tags": [],
            "needs_background": "light"
          }
        }
      ]
    },
    {
      "cell_type": "markdown",
      "metadata": {
        "id": "ciyZWYm-0jGp"
      },
      "source": [
        "# Translation of Bezier representation to Torcs representation"
      ]
    },
    {
      "cell_type": "code",
      "metadata": {
        "id": "uJeJ8fjB0jGp"
      },
      "source": [
        "def translate_curve(curve, K = 50):\n",
        "    vecs = []\n",
        "    vals = []\n",
        "    anses = []\n",
        "    for i in np.linspace(0,1, K + 1):\n",
        "        # print(i)\n",
        "        t = curve.evaluate_hodograph(i)\n",
        "        tp = np.array([t[1], -t[0]])\n",
        "        vecs += [tp]\n",
        "        v = curve.evaluate(i)\n",
        "        vals += [v]\n",
        "        # print(v)\n",
        "\n",
        "    for i in range(K):\n",
        "        start_pos = vals[i]\n",
        "        end_pos = vals[i+1]\n",
        "        start_vec = vecs[i]\n",
        "        end_vec = vecs[i+1]\n",
        "\n",
        "        m = np.concatenate([start_vec, end_vec], axis=1)\n",
        "        ans = np.linalg.inv(m) @ (end_pos - start_pos)\n",
        "\n",
        "        d = np.linalg.det(m)\n",
        "\n",
        "        p = start_pos + ans[0,0] * start_vec\n",
        "        \n",
        "        v1 = p - start_pos\n",
        "        v2 = p - end_pos\n",
        "\n",
        "        r1 = np.linalg.norm(v1)\n",
        "        r2 = np.linalg.norm(v2)\n",
        "        \n",
        "        hmm = max(-1, min(1, v1.T.dot(v2)[0][0] / (r1 * r2)))\n",
        "        #print(hmm)\n",
        "        arc =  np.degrees(np.arccos(hmm))\n",
        "        #print(arc)\n",
        "        \n",
        "        if hmm == 1:\n",
        "            anses += [(\"Str\", np.linalg.norm(start_pos - end_pos))]\n",
        "        else:\n",
        "            anses += [(\"Arc\", r1, r2, arc, d>0)]\n",
        "        \n",
        "    # for ans in anses:\n",
        "    #     print(ans)\n",
        "    return anses"
      ],
      "execution_count": 15,
      "outputs": []
    },
    {
      "cell_type": "code",
      "metadata": {
        "id": "IuonpLci0jGr"
      },
      "source": [
        "def fill_section_cur(id, left, deg, radius, end_radius):\n",
        "    w = \"rgt\" if not left else \"lft\"\n",
        "    return f\"\"\"\n",
        "<section name=\"curve {id}\">\n",
        "    <attstr name=\"type\" val=\"{w}\" />\n",
        "    <attnum name=\"arc\" unit=\"deg\" val=\"{deg}\" />\n",
        "    <attnum name=\"radius\" unit=\"m\" val=\"{radius}\" />\n",
        "    <attnum name=\"end radius\" unit=\"m\" val=\"{end_radius}\" />\n",
        "    <attnum name=\"z start\" unit=\"m\" val=\"0.0\" />\n",
        "    <attnum name=\"z end\" unit=\"m\" val=\"0.0\" />\n",
        "    <attstr name=\"surface\" val=\"asphalt2-lines\" />\n",
        "    <!--Left part of segment-->\n",
        "    <section name=\"Left Side\">\n",
        "        <attnum name=\"start width\" unit=\"m\" val=\"4.0\" />\n",
        "        <attnum name=\"end width\" unit=\"m\" val=\"4.0\" />\n",
        "        <attstr name=\"surface\" val=\"grass\" />\n",
        "    </section>\n",
        "    <section name=\"Left Border\">\n",
        "        <attnum name=\"width\" unit=\"m\" val=\"0.5\" />\n",
        "        <attnum name=\"height\" unit=\"m\" val=\"0.05\" />\n",
        "        <attstr name=\"surface\" val=\"curb-5cm-r\" />\n",
        "        <attstr name=\"style\" val=\"plan\" />\n",
        "    </section>\n",
        "    <section name=\"Left Barrier\">\n",
        "        <attnum name=\"width\" unit=\"m\" val=\"0.1\" />\n",
        "        <attnum name=\"height\" unit=\"m\" val=\"1.0\" />\n",
        "        <attstr name=\"surface\" val=\"barrier\" />\n",
        "        <attstr name=\"style\" val=\"curb\" />\n",
        "    </section>\n",
        "    <!--End of left part-->\n",
        "    <!--Right part of segment-->\n",
        "    <section name=\"Right Side\">\n",
        "        <attnum name=\"start width\" unit=\"m\" val=\"4.0\" />\n",
        "        <attnum name=\"end width\" unit=\"m\" val=\"4.0\" />\n",
        "        <attstr name=\"surface\" val=\"grass\" />\n",
        "    </section>\n",
        "    <section name=\"Right Border\">\n",
        "        <attnum name=\"width\" unit=\"m\" val=\"0.5\" />\n",
        "        <attnum name=\"height\" unit=\"m\" val=\"0.05\" />\n",
        "        <attstr name=\"surface\" val=\"curb-5cm-r\" />\n",
        "        <attstr name=\"style\" val=\"plan\" />\n",
        "    </section>\n",
        "    <section name=\"Right Barrier\">\n",
        "        <attnum name=\"width\" unit=\"m\" val=\"0.1\" />\n",
        "        <attnum name=\"height\" unit=\"m\" val=\"1.0\" />\n",
        "        <attstr name=\"surface\" val=\"barrier\" />\n",
        "        <attstr name=\"style\" val=\"curb\" />\n",
        "    </section>\n",
        "    <!--End of right part-->\n",
        "    </section>\n",
        "      \"\"\""
      ],
      "execution_count": 16,
      "outputs": []
    },
    {
      "cell_type": "code",
      "metadata": {
        "id": "LUmuB9U20jGr"
      },
      "source": [
        "def fill_section_str(id, length):\n",
        "    return f\"\"\"\n",
        "<section name=\"straight {id}\">\n",
        "    <attstr name=\"type\" val=\"str\" />\n",
        "    <attnum name=\"lg\" unit=\"m\" val=\"{length}\" />\n",
        "    <attnum name=\"z start\" unit=\"m\" val=\"0.0\" />\n",
        "    <attnum name=\"z end\" unit=\"m\" val=\"0.0\" />\n",
        "    <attstr name=\"surface\" val=\"asphalt2-lines\" />\n",
        "    <!--Left part of segment-->\n",
        "    <section name=\"Left Side\">\n",
        "        <attnum name=\"start width\" unit=\"m\" val=\"4.0\" />\n",
        "        <attnum name=\"end width\" unit=\"m\" val=\"4.0\" />\n",
        "        <attstr name=\"surface\" val=\"grass\" />\n",
        "    </section>\n",
        "    <section name=\"Left Border\">\n",
        "        <attnum name=\"width\" unit=\"m\" val=\"0.5\" />\n",
        "        <attnum name=\"height\" unit=\"m\" val=\"0.05\" />\n",
        "        <attstr name=\"surface\" val=\"curb-5cm-r\" />\n",
        "        <attstr name=\"style\" val=\"plan\" />\n",
        "    </section>\n",
        "    <section name=\"Left Barrier\">\n",
        "        <attnum name=\"width\" unit=\"m\" val=\"0.1\" />\n",
        "        <attnum name=\"height\" unit=\"m\" val=\"1.0\" />\n",
        "        <attstr name=\"surface\" val=\"barrier\" />\n",
        "        <attstr name=\"style\" val=\"curb\" />\n",
        "    </section>\n",
        "    <!--End of left part-->\n",
        "    <!--Right part of segment-->\n",
        "    <section name=\"Right Side\">\n",
        "        <attnum name=\"start width\" unit=\"m\" val=\"4.0\" />\n",
        "        <attnum name=\"end width\" unit=\"m\" val=\"4.0\" />\n",
        "        <attstr name=\"surface\" val=\"grass\" />\n",
        "    </section>\n",
        "    <section name=\"Right Border\">\n",
        "        <attnum name=\"width\" unit=\"m\" val=\"0.5\" />\n",
        "        <attnum name=\"height\" unit=\"m\" val=\"0.05\" />\n",
        "        <attstr name=\"surface\" val=\"curb-5cm-r\" />\n",
        "        <attstr name=\"style\" val=\"plan\" />\n",
        "    </section>\n",
        "    <section name=\"Right Barrier\">\n",
        "        <attnum name=\"width\" unit=\"m\" val=\"0.1\" />\n",
        "        <attnum name=\"height\" unit=\"m\" val=\"1.0\" />\n",
        "        <attstr name=\"surface\" val=\"barrier\" />\n",
        "        <attstr name=\"style\" val=\"curb\" />\n",
        "    </section>\n",
        "    <!--End of right part-->\n",
        "    </section>\n",
        "      \"\"\""
      ],
      "execution_count": 17,
      "outputs": []
    },
    {
      "cell_type": "code",
      "metadata": {
        "id": "nMD_JIPM0jGr"
      },
      "source": [
        "def get_len(s):\n",
        "    return np.sqrt((s[1][0] - s[0][0]) ** 2 + (s[1][1] - s[0][1]) ** 2)"
      ],
      "execution_count": 18,
      "outputs": []
    },
    {
      "cell_type": "code",
      "metadata": {
        "id": "pnmQnaYi0jGs"
      },
      "source": [
        "def to_xml(segments, curves):\n",
        "    res  = \"\"\n",
        "    id = 0\n",
        "    for i in range(len(segments)):\n",
        "        res += fill_section_str(id, get_len(segments[i]) * 100)\n",
        "        id += 1\n",
        "        anses = translate_curve(curves[i], 100)\n",
        "\n",
        "        for j in range(len(anses)):\n",
        "            ans = anses[j]\n",
        "            if ans[0] == \"Arc\":\n",
        "                r1, r2, arc, left = ans[1:]\n",
        "                res += fill_section_cur(id, left, arc, 100*r1, 100*r2)\n",
        "                id += 1\n",
        "            else:\n",
        "                length, = ans[1:]\n",
        "                res += fill_section_str(id, length * 100)\n",
        "                id += 1\n",
        "\n",
        "    return res"
      ],
      "execution_count": 19,
      "outputs": []
    },
    {
      "cell_type": "code",
      "metadata": {
        "colab": {
          "base_uri": "https://localhost:8080/",
          "height": 265
        },
        "id": "C9fGSuR-0jGs",
        "outputId": "43663d00-e35c-4815-fee2-dcaeea771e9a"
      },
      "source": [
        "segments, curves = get_track(np.array([[0, 0], [1, 1], [4, 1], [4, 5], [7, 5], [6, 4], [5, -2], [7, -5], [5, -5], [2, -2], [0, -5], [-3, -2]]))\n",
        "draw_track(segments, curves)\n",
        "res = to_xml(segments, curves)"
      ],
      "execution_count": 20,
      "outputs": [
        {
          "output_type": "display_data",
          "data": {
            "image/png": "[encoded data removed]",
            "text/plain": [
              "<Figure size 432x288 with 1 Axes>"
            ]
          },
          "metadata": {
            "tags": [],
            "needs_background": "light"
          }
        }
      ]
    },
    {
      "cell_type": "code",
      "metadata": {
        "id": "pox5aiXU0jGs"
      },
      "source": [
        "def save_to_file(s):\n",
        "    with open('output.txt', \"w\") as f:\n",
        "        f.write(s)"
      ],
      "execution_count": 21,
      "outputs": []
    },
    {
      "cell_type": "code",
      "metadata": {
        "id": "Zm8GfJmc0jGt"
      },
      "source": [
        "save_to_file(res)"
      ],
      "execution_count": 22,
      "outputs": []
    },
    {
      "cell_type": "markdown",
      "metadata": {
        "id": "6G_cVWyQ0jGt"
      },
      "source": [
        "# Curwature Entropy"
      ]
    },
    {
      "cell_type": "code",
      "metadata": {
        "colab": {
          "base_uri": "https://localhost:8080/",
          "height": 300
        },
        "id": "TKstLUIG0jGu",
        "outputId": "352b79b3-eff6-452c-bc11-698307ed2dfe"
      },
      "source": [
        "print(curve.length)\n",
        "curve.plot(100)"
      ],
      "execution_count": 23,
      "outputs": [
        {
          "output_type": "stream",
          "text": [
            "2.1146474185471185\n"
          ],
          "name": "stdout"
        },
        {
          "output_type": "execute_result",
          "data": {
            "text/plain": [
              "<matplotlib.axes._subplots.AxesSubplot at 0x7fefc1b7e6a0>"
            ]
          },
          "metadata": {
            "tags": []
          },
          "execution_count": 23
        },
        {
          "output_type": "display_data",
          "data": {
            "image/png": "[encoded data removed]",
            "text/plain": [
              "<Figure size 432x288 with 1 Axes>"
            ]
          },
          "metadata": {
            "tags": [],
            "needs_background": "light"
          }
        }
      ]
    },
    {
      "cell_type": "code",
      "metadata": {
        "colab": {
          "base_uri": "https://localhost:8080/",
          "height": 300
        },
        "id": "DdoGB89U0jGu",
        "outputId": "b49dcf85-3876-437c-94f0-9a4da726840d"
      },
      "source": [
        "curve2 = curve.specialize(0.1, 0.6)\n",
        "print(curve2.length)\n",
        "curve2.plot(100)"
      ],
      "execution_count": 24,
      "outputs": [
        {
          "output_type": "stream",
          "text": [
            "1.0948198154137423\n"
          ],
          "name": "stdout"
        },
        {
          "output_type": "execute_result",
          "data": {
            "text/plain": [
              "<matplotlib.axes._subplots.AxesSubplot at 0x7fefb92715c0>"
            ]
          },
          "metadata": {
            "tags": []
          },
          "execution_count": 24
        },
        {
          "output_type": "display_data",
          "data": {
            "image/png": "[encoded data removed]",
            "text/plain": [
              "<Figure size 432x288 with 1 Axes>"
            ]
          },
          "metadata": {
            "tags": [],
            "needs_background": "light"
          }
        }
      ]
    },
    {
      "cell_type": "code",
      "metadata": {
        "id": "s1WF4nwp0jGv"
      },
      "source": [
        "def get_curve_stats(curve, K = 50):\n",
        "    vecs = []\n",
        "    vals = []\n",
        "    turns = []\n",
        "    lengths = []\n",
        "    for i in np.linspace(0,1, K + 1):\n",
        "        t = curve.evaluate_hodograph(i)\n",
        "        tp = np.array([t[1], -t[0]])\n",
        "        vecs += [tp]\n",
        "        v = curve.evaluate(i)\n",
        "        vals += [v]\n",
        "\n",
        "    for i in range(K):\n",
        "        start_pos = vals[i]\n",
        "        end_pos = vals[i+1]\n",
        "        start_vec = vecs[i]\n",
        "        end_vec = vecs[i+1]\n",
        "        \n",
        "        cut = curve.specialize(i / K, (i + 1) / K)\n",
        "\n",
        "        m = np.concatenate([start_vec, end_vec], axis=1)\n",
        "        ans = np.linalg.inv(m) @ (end_pos - start_pos)\n",
        "\n",
        "        d = np.linalg.det(m)\n",
        "\n",
        "        p = start_pos + ans[0,0] * start_vec\n",
        "        \n",
        "        v1 = p - start_pos\n",
        "        v2 = p - end_pos\n",
        "\n",
        "        r1 = np.linalg.norm(v1)\n",
        "        r2 = np.linalg.norm(v2)\n",
        "        \n",
        "        \n",
        "        if max(-1, min(1, v1.T.dot(v2)[0][0] / (r1 * r2))) == 1:\n",
        "            turns.append(0) \n",
        "            lengths.append(np.linalg.norm(start_pos - end_pos))\n",
        "        else:\n",
        "            turns.append(1 / ((r1 + r2) / 2) * np.sign(d))\n",
        "            lengths.append(cut.length)\n",
        "        \n",
        "    return turns, lengths"
      ],
      "execution_count": 25,
      "outputs": []
    },
    {
      "cell_type": "code",
      "metadata": {
        "colab": {
          "base_uri": "https://localhost:8080/"
        },
        "id": "pobiPffQ0jGv",
        "outputId": "4dc82527-15c1-4c80-b585-318b0ddad5f0"
      },
      "source": [
        "get_curve_stats(curve)"
      ],
      "execution_count": 26,
      "outputs": [
        {
          "output_type": "execute_result",
          "data": {
            "text/plain": [
              "([-1.9555541277811728,\n",
              "  -2.0719880724876085,\n",
              "  -2.1438580335885122,\n",
              "  -2.1643931845959616,\n",
              "  -2.132654239880537,\n",
              "  -2.0535546088632315,\n",
              "  -1.936433023384818,\n",
              "  -1.7928222299377277,\n",
              "  -1.6342467650878307,\n",
              "  -1.4706437594664699,\n",
              "  -1.309591963355863,\n",
              "  -1.156216165740873,\n",
              "  -1.0135048734717482,\n",
              "  -0.8827968751037079,\n",
              "  -0.7642728886811363,\n",
              "  -0.65737017847869,\n",
              "  -0.5610952414587512,\n",
              "  -0.47424069604143293,\n",
              "  -0.3955248673958387,\n",
              "  -0.3236744363705301,\n",
              "  -0.2574677348603268,\n",
              "  -0.19575215019567682,\n",
              "  -0.13744520183274306,\n",
              "  -0.08152572696602668,\n",
              "  -0.02701932735316463,\n",
              "  0.027019327353164313,\n",
              "  0.08152572696602739,\n",
              "  0.1374452018327414,\n",
              "  0.19575215019567732,\n",
              "  0.2574677348603244,\n",
              "  0.32367443637053217,\n",
              "  0.39552486739584164,\n",
              "  0.47424069604143376,\n",
              "  0.5610952414587486,\n",
              "  0.6573701784786926,\n",
              "  0.7642728886811374,\n",
              "  0.8827968751037089,\n",
              "  1.0135048734717456,\n",
              "  1.156216165740866,\n",
              "  1.3095919633558455,\n",
              "  1.4706437594665005,\n",
              "  1.6342467650878374,\n",
              "  1.7928222299377066,\n",
              "  1.9364330233848175,\n",
              "  2.0535546088632413,\n",
              "  2.1326542398805337,\n",
              "  2.164393184595972,\n",
              "  2.1438580335885367,\n",
              "  2.0719880724876103,\n",
              "  1.9555541277811481],\n",
              " [0.04163439126193886,\n",
              "  0.04027501869423489,\n",
              "  0.03924614893489296,\n",
              "  0.038533015778606725,\n",
              "  0.038113483998201615,\n",
              "  0.037959106837725146,\n",
              "  0.038036835817143726,\n",
              "  0.038311045145473,\n",
              "  0.038745510477781825,\n",
              "  0.0393050682020047,\n",
              "  0.039956817847664555,\n",
              "  0.040670855818455004,\n",
              "  0.041420610126640015,\n",
              "  0.04218287964891988,\n",
              "  0.042937680966993255,\n",
              "  0.04366798772978779,\n",
              "  0.044359424296894066,\n",
              "  0.04499995423664639,\n",
              "  0.04557958778444732,\n",
              "  0.04609012086104947,\n",
              "  0.04652491087587151,\n",
              "  0.046878690209190936,\n",
              "  0.04714741600520533,\n",
              "  0.04732815397108857,\n",
              "  0.047418993746701735,\n",
              "  0.04741899374670191,\n",
              "  0.04732815397108861,\n",
              "  0.04714741600520547,\n",
              "  0.04687869020919065,\n",
              "  0.04652491087587139,\n",
              "  0.046090120861049036,\n",
              "  0.045579587784447345,\n",
              "  0.04499995423664639,\n",
              "  0.044359424296894545,\n",
              "  0.043667987729787826,\n",
              "  0.04293768096699318,\n",
              "  0.04218287964891967,\n",
              "  0.04142061012664021,\n",
              "  0.04067085581845544,\n",
              "  0.03995681784766456,\n",
              "  0.0393050682020047,\n",
              "  0.03874551047778156,\n",
              "  0.038311045145472795,\n",
              "  0.03803683581714373,\n",
              "  0.037959106837725555,\n",
              "  0.03811348399820206,\n",
              "  0.038533015778605434,\n",
              "  0.03924614893489315,\n",
              "  0.040275018694235123,\n",
              "  0.041634391261938866])"
            ]
          },
          "metadata": {
            "tags": []
          },
          "execution_count": 26
        }
      ]
    },
    {
      "cell_type": "code",
      "metadata": {
        "id": "Id86Y7uZ0jGv"
      },
      "source": [
        "def get_track_stats(segments, curves):\n",
        "    turns = []\n",
        "    lengths = []\n",
        "    for s in segments:\n",
        "        turns.append(0)\n",
        "        lengths.append(get_len(s))\n",
        "    for c in curves:\n",
        "        t, l = get_curve_stats(c)\n",
        "        turns += t\n",
        "        lengths += l\n",
        "        \n",
        "    return turns, lengths"
      ],
      "execution_count": 27,
      "outputs": []
    },
    {
      "cell_type": "code",
      "metadata": {
        "colab": {
          "base_uri": "https://localhost:8080/",
          "height": 300
        },
        "id": "5Zta4cVW0jGv",
        "outputId": "9bbb0d9d-ac39-41ba-db51-c74ae509e41e"
      },
      "source": [
        "segments, curves = get_track(np.array([[0, 0], [1, 1], [4, 1], [4, 5], [7, 5], [6, 4], [5, -2], [7, -5], [5, -5], [2, -2], [0, -5], [-3, -2]]))\n",
        "draw_track(segments, curves)\n",
        "res, _ = get_track_stats(segments, curves)\n",
        "print(max(res))\n",
        "print(min(res))"
      ],
      "execution_count": 28,
      "outputs": [
        {
          "output_type": "stream",
          "text": [
            "4.216769867229083\n",
            "-6.803234075133655\n"
          ],
          "name": "stdout"
        },
        {
          "output_type": "display_data",
          "data": {
            "image/png": "[encoded data removed]",
            "text/plain": [
              "<Figure size 432x288 with 1 Axes>"
            ]
          },
          "metadata": {
            "tags": [],
            "needs_background": "light"
          }
        }
      ]
    },
    {
      "cell_type": "code",
      "metadata": {
        "colab": {
          "base_uri": "https://localhost:8080/",
          "height": 352
        },
        "id": "W7GWNcPE0jGw",
        "outputId": "fca87525-f3b0-4420-a820-2d2d02b57bb7"
      },
      "source": [
        "plt.hist(res)"
      ],
      "execution_count": 29,
      "outputs": [
        {
          "output_type": "execute_result",
          "data": {
            "text/plain": [
              "(array([  3.,   3.,   8.,  13.,  24.,  99., 125.,  17.,  10.,   4.]),\n",
              " array([-6.80323408, -5.70123368, -4.59923329, -3.49723289, -2.3952325 ,\n",
              "        -1.2932321 , -0.19123171,  0.91076868,  2.01276908,  3.11476947,\n",
              "         4.21676987]),\n",
              " <a list of 10 Patch objects>)"
            ]
          },
          "metadata": {
            "tags": []
          },
          "execution_count": 29
        },
        {
          "output_type": "display_data",
          "data": {
            "image/png": "[encoded data removed]",
            "text/plain": [
              "<Figure size 432x288 with 1 Axes>"
            ]
          },
          "metadata": {
            "tags": [],
            "needs_background": "light"
          }
        }
      ]
    },
    {
      "cell_type": "code",
      "metadata": {
        "colab": {
          "base_uri": "https://localhost:8080/",
          "height": 300
        },
        "id": "f8s1Ss4K0jGx",
        "outputId": "072ede67-ed16-4c3b-e9a8-794a0b50faa6"
      },
      "source": [
        "segments, curves = get_track(np.array([[0, 0], [1, 1], [4, 1], [4, 5], [7, 5], [6, 4], [5, -2], [7, -5], [5, -5], [2, -2], [0, -5], [-1, -3], [-2, -3.5], [-3, -2]]))\n",
        "draw_track(segments, curves)\n",
        "\n",
        "res, _ = get_track_stats(segments, curves)\n",
        "print(max(res))\n",
        "print(min(res))"
      ],
      "execution_count": 30,
      "outputs": [
        {
          "output_type": "stream",
          "text": [
            "11.427798724095716\n",
            "-18.448360662133325\n"
          ],
          "name": "stdout"
        },
        {
          "output_type": "display_data",
          "data": {
            "image/png": "[encoded data removed]",
            "text/plain": [
              "<Figure size 432x288 with 1 Axes>"
            ]
          },
          "metadata": {
            "tags": [],
            "needs_background": "light"
          }
        }
      ]
    },
    {
      "cell_type": "code",
      "metadata": {
        "colab": {
          "base_uri": "https://localhost:8080/",
          "height": 352
        },
        "id": "ZebGOIZA0jGx",
        "outputId": "1eedbb7a-3369-404b-ebf3-abda91d420bd"
      },
      "source": [
        "plt.hist(res)"
      ],
      "execution_count": 31,
      "outputs": [
        {
          "output_type": "execute_result",
          "data": {
            "text/plain": [
              "(array([  1.,   1.,   3.,   6.,  17.,  83., 232.,   7.,   3.,   4.]),\n",
              " array([-18.44836066, -15.46074472, -12.47312878,  -9.48551285,\n",
              "         -6.49789691,  -3.51028097,  -0.52266503,   2.46495091,\n",
              "          5.45256685,   8.44018279,  11.42779872]),\n",
              " <a list of 10 Patch objects>)"
            ]
          },
          "metadata": {
            "tags": []
          },
          "execution_count": 31
        },
        {
          "output_type": "display_data",
          "data": {
            "image/png": "[encoded data removed]",
            "text/plain": [
              "<Figure size 432x288 with 1 Axes>"
            ]
          },
          "metadata": {
            "tags": [],
            "needs_background": "light"
          }
        }
      ]
    },
    {
      "cell_type": "code",
      "metadata": {
        "colab": {
          "base_uri": "https://localhost:8080/",
          "height": 300
        },
        "id": "x1AZRgO50jGx",
        "outputId": "7fb26d06-7daf-4b08-eed9-a509436afac5"
      },
      "source": [
        "segments, curves = get_track([[0, 0], [0, 1], [2, 1], [2, 0]])\n",
        "draw_track(segments, curves)\n",
        "\n",
        "res, _ = get_track_stats(segments, curves)\n",
        "print(max(res))\n",
        "print(min(res))"
      ],
      "execution_count": 32,
      "outputs": [
        {
          "output_type": "stream",
          "text": [
            "0\n",
            "-5.514510668356622\n"
          ],
          "name": "stdout"
        },
        {
          "output_type": "display_data",
          "data": {
            "image/png": "[encoded data removed]",
            "text/plain": [
              "<Figure size 432x288 with 1 Axes>"
            ]
          },
          "metadata": {
            "tags": [],
            "needs_background": "light"
          }
        }
      ]
    },
    {
      "cell_type": "code",
      "metadata": {
        "colab": {
          "base_uri": "https://localhost:8080/",
          "height": 352
        },
        "id": "pDMPOfO60jGx",
        "outputId": "60210a22-e753-45db-9515-8f171080da3b"
      },
      "source": [
        "plt.hist(res)"
      ],
      "execution_count": 33,
      "outputs": [
        {
          "output_type": "execute_result",
          "data": {
            "text/plain": [
              "(array([12.,  4.,  0.,  4.,  4.,  4.,  8.,  8., 20., 38.]),\n",
              " array([-5.51451067, -4.9630596 , -4.41160853, -3.86015747, -3.3087064 ,\n",
              "        -2.75725533, -2.20580427, -1.6543532 , -1.10290213, -0.55145107,\n",
              "         0.        ]),\n",
              " <a list of 10 Patch objects>)"
            ]
          },
          "metadata": {
            "tags": []
          },
          "execution_count": 33
        },
        {
          "output_type": "display_data",
          "data": {
            "image/png": "[encoded data removed]",
            "text/plain": [
              "<Figure size 432x288 with 1 Axes>"
            ]
          },
          "metadata": {
            "tags": [],
            "needs_background": "light"
          }
        }
      ]
    },
    {
      "cell_type": "code",
      "metadata": {
        "colab": {
          "base_uri": "https://localhost:8080/",
          "height": 300
        },
        "id": "YiJo5PlG0jGy",
        "outputId": "a2e6e45f-07cf-4ec8-b344-7d6f2def596c"
      },
      "source": [
        "segments, curves = get_track(np.array([[3, 3], [4, 3], [7, 0], [7, -1], [4, -4], [3, -4], [0, -1], [0, 0]]))\n",
        "draw_track(segments, curves)\n",
        "\n",
        "res, _ = get_track_stats(segments, curves)\n",
        "print(max(res))\n",
        "print(min(res))"
      ],
      "execution_count": 34,
      "outputs": [
        {
          "output_type": "stream",
          "text": [
            "0\n",
            "-5.170494726413058\n"
          ],
          "name": "stdout"
        },
        {
          "output_type": "display_data",
          "data": {
            "image/png": "[encoded data removed]",
            "text/plain": [
              "<Figure size 432x288 with 1 Axes>"
            ]
          },
          "metadata": {
            "tags": [],
            "needs_background": "light"
          }
        }
      ]
    },
    {
      "cell_type": "code",
      "metadata": {
        "colab": {
          "base_uri": "https://localhost:8080/",
          "height": 352
        },
        "id": "Q1_ZFC_D0jGy",
        "outputId": "d824a60b-b518-4b85-afb0-cd48000e1930"
      },
      "source": [
        "plt.hist(res)"
      ],
      "execution_count": 35,
      "outputs": [
        {
          "output_type": "execute_result",
          "data": {
            "text/plain": [
              "(array([  8.,   0.,   0.,   8.,   0.,   0.,   8.,   8.,  16., 156.]),\n",
              " array([-5.17049473, -4.65344525, -4.13639578, -3.61934631, -3.10229684,\n",
              "        -2.58524736, -2.06819789, -1.55114842, -1.03409895, -0.51704947,\n",
              "         0.        ]),\n",
              " <a list of 10 Patch objects>)"
            ]
          },
          "metadata": {
            "tags": []
          },
          "execution_count": 35
        },
        {
          "output_type": "display_data",
          "data": {
            "image/png": "[encoded data removed]",
            "text/plain": [
              "<Figure size 432x288 with 1 Axes>"
            ]
          },
          "metadata": {
            "tags": [],
            "needs_background": "light"
          }
        }
      ]
    },
    {
      "cell_type": "code",
      "metadata": {
        "id": "QbY4R_n20jGy"
      },
      "source": [
        "save_to_file(to_xml(segments, curves))"
      ],
      "execution_count": 36,
      "outputs": []
    },
    {
      "cell_type": "code",
      "metadata": {
        "id": "vQ_XJ_FM0jGy"
      },
      "source": [
        "def bin_entropy(a, bins=16, range=None, weights=None):\n",
        "    \"\"\"Calculate entropy from bins, the same is done in the paper\n",
        "    :param a: Input data\n",
        "    :param bins: int or sequence, passed to np.histogram\n",
        "    :param range: range of possible values, passed to np.histogram\n",
        "    :param range: weigths of input values, passed to np.histogram\n",
        "    \"\"\"\n",
        "\n",
        "    p, _ = np.histogram(a, bins=bins, range=range, weights=weights)\n",
        "    p1 = p[p > 0]\n",
        "    if len(p1) > 0:\n",
        "        p1 = p1 / p1.sum()\n",
        "        return -np.sum(p1 * np.log2(p1))\n",
        "    else:\n",
        "        return 0."
      ],
      "execution_count": 37,
      "outputs": []
    },
    {
      "cell_type": "code",
      "metadata": {
        "id": "9yBqOic_0jGz"
      },
      "source": [
        "def curves_entropy(points):\n",
        "    segments, curves = get_track(points)\n",
        "    turns, lengths = get_track_stats(segments, curves)\n",
        "    length = sum(lengths)\n",
        "    turns = np.array(turns)\n",
        "    lengths = np.array(lengths) / length\n",
        "    print(lengths.sum())\n",
        "    bins = [i - 8.5 for i in range(17)]\n",
        "    bins[0] = -np.inf \n",
        "    bins = [-np.inf, -7, -6, -5, -4, -3, -2, 2, 3, 4, 5, 6, 7, np.inf]\n",
        "    #bins.append(np.inf)\n",
        "    print(np.histogram(turns, bins=bins, range=None, weights=lengths))\n",
        "    print(np.histogram(turns, bins=bins, range=None, weights=lengths)[0].sum())\n",
        "    return bin_entropy(turns, bins, range=None, weights=lengths)\n",
        "    "
      ],
      "execution_count": 38,
      "outputs": []
    },
    {
      "cell_type": "code",
      "metadata": {
        "colab": {
          "base_uri": "https://localhost:8080/"
        },
        "id": "dRkLPfQA0jGz",
        "outputId": "98b2b695-c156-4c9e-8de6-ba3c08afd424"
      },
      "source": [
        "curves_entropy([[0, 0], [1, 1], [4, 1], [4, 5], [7, 5], [6, 4], [5, -2], [7, -5], [5, -5], [2, -2], [0, -5], [-3, -2]])"
      ],
      "execution_count": 39,
      "outputs": [
        {
          "output_type": "stream",
          "text": [
            "0.9999999999999998\n",
            "(array([0.        , 0.00158775, 0.00167786, 0.00392619, 0.01182346,\n",
            "       0.01829892, 0.94450074, 0.01208559, 0.00485374, 0.00124575,\n",
            "       0.        , 0.        , 0.        ]), array([-inf,  -7.,  -6.,  -5.,  -4.,  -3.,  -2.,   2.,   3.,   4.,   5.,\n",
            "         6.,   7.,  inf]))\n",
            "0.9999999999999996\n"
          ],
          "name": "stdout"
        },
        {
          "output_type": "execute_result",
          "data": {
            "text/plain": [
              "0.44705825313847186"
            ]
          },
          "metadata": {
            "tags": []
          },
          "execution_count": 39
        }
      ]
    },
    {
      "cell_type": "code",
      "metadata": {
        "colab": {
          "base_uri": "https://localhost:8080/"
        },
        "id": "PrWnFvAd0jG0",
        "outputId": "30778c7d-1562-4873-9366-3c7c23ed6a5c"
      },
      "source": [
        "curves_entropy([[3, 3], [4, 3], [7, 0], [7, -1], [4, -4], [3, -4], [0, -1], [0, 0]])"
      ],
      "execution_count": 40,
      "outputs": [
        {
          "output_type": "stream",
          "text": [
            "1.0\n",
            "(array([0.        , 0.        , 0.01224309, 0.        , 0.01429538,\n",
            "       0.        , 0.97346153, 0.        , 0.        , 0.        ,\n",
            "       0.        , 0.        , 0.        ]), array([-inf,  -7.,  -6.,  -5.,  -4.,  -3.,  -2.,   2.,   3.,   4.,   5.,\n",
            "         6.,   7.,  inf]))\n",
            "1.0000000000000004\n"
          ],
          "name": "stdout"
        },
        {
          "output_type": "execute_result",
          "data": {
            "text/plain": [
              "0.20314756653886124"
            ]
          },
          "metadata": {
            "tags": []
          },
          "execution_count": 40
        }
      ]
    },
    {
      "cell_type": "code",
      "metadata": {
        "colab": {
          "base_uri": "https://localhost:8080/"
        },
        "id": "e2300zdf0jG0",
        "outputId": "3ed3633a-4a63-4c8a-9e69-684862f91765"
      },
      "source": [
        "curves_entropy([[0, 0], [0, 1], [2, 1], [2, 0]])"
      ],
      "execution_count": 41,
      "outputs": [
        {
          "output_type": "stream",
          "text": [
            "1.0000000000000002\n",
            "(array([0.        , 0.        , 0.05347338, 0.01835213, 0.03932467,\n",
            "       0.04389396, 0.84495586, 0.        , 0.        , 0.        ,\n",
            "       0.        , 0.        , 0.        ]), array([-inf,  -7.,  -6.,  -5.,  -4.,  -3.,  -2.,   2.,   3.,   4.,   5.,\n",
            "         6.,   7.,  inf]))\n",
            "0.9999999999999999\n"
          ],
          "name": "stdout"
        },
        {
          "output_type": "execute_result",
          "data": {
            "text/plain": [
              "0.9186872204607409"
            ]
          },
          "metadata": {
            "tags": []
          },
          "execution_count": 41
        }
      ]
    },
    {
      "cell_type": "code",
      "metadata": {
        "colab": {
          "base_uri": "https://localhost:8080/"
        },
        "id": "o4aPpo5z0jG0",
        "outputId": "35397ab2-7177-451f-f7f3-4bbbc49b6163"
      },
      "source": [
        "bin_entropy([0,1,2,3,4,5,6,7,0,1,2,3,4,5,6,7])"
      ],
      "execution_count": 42,
      "outputs": [
        {
          "output_type": "execute_result",
          "data": {
            "text/plain": [
              "3.0"
            ]
          },
          "metadata": {
            "tags": []
          },
          "execution_count": 42
        }
      ]
    },
    {
      "cell_type": "code",
      "metadata": {
        "colab": {
          "base_uri": "https://localhost:8080/"
        },
        "id": "OdPB-QBM0jG1",
        "outputId": "d6391662-7e84-4ab8-f9b4-0290adb9fd51"
      },
      "source": [
        "bin_entropy([0,1,2,3,4,5,6,7,8,9,10,11,12,13,14,15])"
      ],
      "execution_count": 43,
      "outputs": [
        {
          "output_type": "execute_result",
          "data": {
            "text/plain": [
              "4.0"
            ]
          },
          "metadata": {
            "tags": []
          },
          "execution_count": 43
        }
      ]
    },
    {
      "cell_type": "markdown",
      "metadata": {
        "id": "17918jnt0mXG"
      },
      "source": [
        "# Self-crossing"
      ]
    },
    {
      "cell_type": "code",
      "metadata": {
        "id": "tbjZ6DlK0puX"
      },
      "source": [
        "def if_crossing(segments, curves):\n",
        "    def two_curves(fst, snd):\n",
        "        intersections = fst.intersect(snd)\n",
        "        if len(intersections[0, :]) > 0:\n",
        "            s_vals = intersections[0, :] + intersections[1, :]\n",
        "            # print(s_vals)\n",
        "            for i in s_vals:\n",
        "                if i != 0 and i != 1:\n",
        "                    return True\n",
        "        return False\n",
        "    def segment_to_curve(bg, en):\n",
        "        nodes = np.asfortranarray([\n",
        "            [bg[0], en[0]],\n",
        "            [bg[1], en[1]]\n",
        "        ])\n",
        "        return bezier.Curve(nodes, degree=1)\n",
        "    def self_cross(curve):\n",
        "        parts = 100\n",
        "        pt = np.linspace(0,1,parts+1)\n",
        "        mini_curves = [curve.specialize(a,b) for (a,b) in zip(pt, pt[1:])]\n",
        "        y = len(mini_curves)\n",
        "        for i in range(y):\n",
        "            for j in range(i+1, y):\n",
        "                if two_curves(mini_curves[i], mini_curves[j]): return True\n",
        "        return False\n",
        "\n",
        "    pts = reduce(lambda a,b:a+b, [[(s[0][0], s[0][1]), (s[1][0], s[1][1])] for s in segments], [])\n",
        "    pts_set = set(pts)\n",
        "\n",
        "    if len(pts_set) != len(pts): return True\n",
        "    \n",
        "    sgms = list(map(lambda s: segment_to_curve(s[0], s[1]), segments))\n",
        "    all_parts = sgms + curves\n",
        "\n",
        "    for c in curves:\n",
        "        if self_cross(c):\n",
        "            draw_track([], [c])\n",
        "            return True\n",
        "\n",
        "    for i in range(len(all_parts)):\n",
        "        for j in range(i+1,len(all_parts)):\n",
        "            s = all_parts[i]\n",
        "            t = all_parts[j]\n",
        "            if two_curves(s, t):\n",
        "                # print(s,t)\n",
        "                draw_track([], [s,t])\n",
        "                return True\n",
        "\n",
        "    return False"
      ],
      "execution_count": 68,
      "outputs": []
    },
    {
      "cell_type": "code",
      "metadata": {
        "colab": {
          "base_uri": "https://localhost:8080/",
          "height": 265
        },
        "id": "QYieVr-o1Fyx",
        "outputId": "3cc87528-b652-4cda-db56-6caff1a0ef2b"
      },
      "source": [
        "segments, curves = get_track([[random.randrange(-10, 10), random.randrange(-10, 10)] for _ in range(8)])\n",
        "draw_track(segments, curves)"
      ],
      "execution_count": 69,
      "outputs": [
        {
          "output_type": "display_data",
          "data": {
            "image/png": "[encoded data removed]",
            "text/plain": [
              "<Figure size 432x288 with 1 Axes>"
            ]
          },
          "metadata": {
            "tags": [],
            "needs_background": "light"
          }
        }
      ]
    },
    {
      "cell_type": "code",
      "metadata": {
        "colab": {
          "base_uri": "https://localhost:8080/",
          "height": 282
        },
        "id": "Nx-mFYOK0wJD",
        "outputId": "c0cfeb1b-c9ff-4702-da19-40210adc37da"
      },
      "source": [
        "if_crossing(segments, curves)"
      ],
      "execution_count": 70,
      "outputs": [
        {
          "output_type": "execute_result",
          "data": {
            "text/plain": [
              "True"
            ]
          },
          "metadata": {
            "tags": []
          },
          "execution_count": 70
        },
        {
          "output_type": "display_data",
          "data": {
            "image/png": "[encoded data removed]",
            "text/plain": [
              "<Figure size 432x288 with 1 Axes>"
            ]
          },
          "metadata": {
            "tags": [],
            "needs_background": "light"
          }
        }
      ]
    },
    {
      "cell_type": "code",
      "metadata": {
        "id": "H0HJzoef1M8J"
      },
      "source": [
        ""
      ],
      "execution_count": 46,
      "outputs": []
    }
  ]
}