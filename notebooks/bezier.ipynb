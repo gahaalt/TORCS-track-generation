{
  "nbformat": 4,
  "nbformat_minor": 0,
  "metadata": {
    "kernelspec": {
      "display_name": "Python 3",
      "language": "python",
      "name": "python3"
    },
    "language_info": {
      "codemirror_mode": {
        "name": "ipython",
        "version": 3
      },
      "file_extension": ".py",
      "mimetype": "text/x-python",
      "name": "python",
      "nbconvert_exporter": "python",
      "pygments_lexer": "ipython3",
      "version": "3.8.3"
    },
    "colab": {
      "name": "bezier.ipynb",
      "provenance": [],
      "collapsed_sections": []
    }
  },
  "cells": [
    {
      "cell_type": "code",
      "metadata": {
        "colab": {
          "base_uri": "https://localhost:8080/"
        },
        "id": "p0Zv_WGi00Ck",
        "outputId": "9abe141b-6a07-4dbd-e3f1-1bf15ec2ef41"
      },
      "source": [
        "!pip install bezier"
      ],
      "execution_count": 2,
      "outputs": [
        {
          "output_type": "stream",
          "text": [
            "Collecting bezier\n",
            "\u001b[?25l  Downloading https://files.pythonhosted.org/packages/39/2c/5e002f45ddb1c531e9f8cf54fe6dd018da28ed4a1071ababd5333c16819d/bezier-2020.5.19-cp36-cp36m-manylinux2010_x86_64.whl (1.4MB)\n",
            "\r\u001b[K     |▎                               | 10kB 12.9MB/s eta 0:00:01\r\u001b[K     |▌                               | 20kB 11.5MB/s eta 0:00:01\r\u001b[K     |▊                               | 30kB 7.9MB/s eta 0:00:01\r\u001b[K     |█                               | 40kB 7.0MB/s eta 0:00:01\r\u001b[K     |█▏                              | 51kB 4.4MB/s eta 0:00:01\r\u001b[K     |█▍                              | 61kB 4.8MB/s eta 0:00:01\r\u001b[K     |█▊                              | 71kB 4.9MB/s eta 0:00:01\r\u001b[K     |██                              | 81kB 5.2MB/s eta 0:00:01\r\u001b[K     |██▏                             | 92kB 5.4MB/s eta 0:00:01\r\u001b[K     |██▍                             | 102kB 5.4MB/s eta 0:00:01\r\u001b[K     |██▋                             | 112kB 5.4MB/s eta 0:00:01\r\u001b[K     |██▉                             | 122kB 5.4MB/s eta 0:00:01\r\u001b[K     |███                             | 133kB 5.4MB/s eta 0:00:01\r\u001b[K     |███▍                            | 143kB 5.4MB/s eta 0:00:01\r\u001b[K     |███▋                            | 153kB 5.4MB/s eta 0:00:01\r\u001b[K     |███▉                            | 163kB 5.4MB/s eta 0:00:01\r\u001b[K     |████                            | 174kB 5.4MB/s eta 0:00:01\r\u001b[K     |████▎                           | 184kB 5.4MB/s eta 0:00:01\r\u001b[K     |████▌                           | 194kB 5.4MB/s eta 0:00:01\r\u001b[K     |████▊                           | 204kB 5.4MB/s eta 0:00:01\r\u001b[K     |█████                           | 215kB 5.4MB/s eta 0:00:01\r\u001b[K     |█████▎                          | 225kB 5.4MB/s eta 0:00:01\r\u001b[K     |█████▌                          | 235kB 5.4MB/s eta 0:00:01\r\u001b[K     |█████▊                          | 245kB 5.4MB/s eta 0:00:01\r\u001b[K     |██████                          | 256kB 5.4MB/s eta 0:00:01\r\u001b[K     |██████▏                         | 266kB 5.4MB/s eta 0:00:01\r\u001b[K     |██████▍                         | 276kB 5.4MB/s eta 0:00:01\r\u001b[K     |██████▊                         | 286kB 5.4MB/s eta 0:00:01\r\u001b[K     |███████                         | 296kB 5.4MB/s eta 0:00:01\r\u001b[K     |███████▏                        | 307kB 5.4MB/s eta 0:00:01\r\u001b[K     |███████▍                        | 317kB 5.4MB/s eta 0:00:01\r\u001b[K     |███████▋                        | 327kB 5.4MB/s eta 0:00:01\r\u001b[K     |███████▉                        | 337kB 5.4MB/s eta 0:00:01\r\u001b[K     |████████                        | 348kB 5.4MB/s eta 0:00:01\r\u001b[K     |████████▍                       | 358kB 5.4MB/s eta 0:00:01\r\u001b[K     |████████▋                       | 368kB 5.4MB/s eta 0:00:01\r\u001b[K     |████████▉                       | 378kB 5.4MB/s eta 0:00:01\r\u001b[K     |█████████                       | 389kB 5.4MB/s eta 0:00:01\r\u001b[K     |█████████▎                      | 399kB 5.4MB/s eta 0:00:01\r\u001b[K     |█████████▌                      | 409kB 5.4MB/s eta 0:00:01\r\u001b[K     |█████████▉                      | 419kB 5.4MB/s eta 0:00:01\r\u001b[K     |██████████                      | 430kB 5.4MB/s eta 0:00:01\r\u001b[K     |██████████▎                     | 440kB 5.4MB/s eta 0:00:01\r\u001b[K     |██████████▌                     | 450kB 5.4MB/s eta 0:00:01\r\u001b[K     |██████████▊                     | 460kB 5.4MB/s eta 0:00:01\r\u001b[K     |███████████                     | 471kB 5.4MB/s eta 0:00:01\r\u001b[K     |███████████▏                    | 481kB 5.4MB/s eta 0:00:01\r\u001b[K     |███████████▌                    | 491kB 5.4MB/s eta 0:00:01\r\u001b[K     |███████████▊                    | 501kB 5.4MB/s eta 0:00:01\r\u001b[K     |████████████                    | 512kB 5.4MB/s eta 0:00:01\r\u001b[K     |████████████▏                   | 522kB 5.4MB/s eta 0:00:01\r\u001b[K     |████████████▍                   | 532kB 5.4MB/s eta 0:00:01\r\u001b[K     |████████████▋                   | 542kB 5.4MB/s eta 0:00:01\r\u001b[K     |████████████▉                   | 552kB 5.4MB/s eta 0:00:01\r\u001b[K     |█████████████▏                  | 563kB 5.4MB/s eta 0:00:01\r\u001b[K     |█████████████▍                  | 573kB 5.4MB/s eta 0:00:01\r\u001b[K     |█████████████▋                  | 583kB 5.4MB/s eta 0:00:01\r\u001b[K     |█████████████▉                  | 593kB 5.4MB/s eta 0:00:01\r\u001b[K     |██████████████                  | 604kB 5.4MB/s eta 0:00:01\r\u001b[K     |██████████████▎                 | 614kB 5.4MB/s eta 0:00:01\r\u001b[K     |██████████████▌                 | 624kB 5.4MB/s eta 0:00:01\r\u001b[K     |██████████████▉                 | 634kB 5.4MB/s eta 0:00:01\r\u001b[K     |███████████████                 | 645kB 5.4MB/s eta 0:00:01\r\u001b[K     |███████████████▎                | 655kB 5.4MB/s eta 0:00:01\r\u001b[K     |███████████████▌                | 665kB 5.4MB/s eta 0:00:01\r\u001b[K     |███████████████▊                | 675kB 5.4MB/s eta 0:00:01\r\u001b[K     |████████████████                | 686kB 5.4MB/s eta 0:00:01\r\u001b[K     |████████████████▏               | 696kB 5.4MB/s eta 0:00:01\r\u001b[K     |████████████████▌               | 706kB 5.4MB/s eta 0:00:01\r\u001b[K     |████████████████▊               | 716kB 5.4MB/s eta 0:00:01\r\u001b[K     |█████████████████               | 727kB 5.4MB/s eta 0:00:01\r\u001b[K     |█████████████████▏              | 737kB 5.4MB/s eta 0:00:01\r\u001b[K     |█████████████████▍              | 747kB 5.4MB/s eta 0:00:01\r\u001b[K     |█████████████████▋              | 757kB 5.4MB/s eta 0:00:01\r\u001b[K     |█████████████████▉              | 768kB 5.4MB/s eta 0:00:01\r\u001b[K     |██████████████████▏             | 778kB 5.4MB/s eta 0:00:01\r\u001b[K     |██████████████████▍             | 788kB 5.4MB/s eta 0:00:01\r\u001b[K     |██████████████████▋             | 798kB 5.4MB/s eta 0:00:01\r\u001b[K     |██████████████████▉             | 808kB 5.4MB/s eta 0:00:01\r\u001b[K     |███████████████████             | 819kB 5.4MB/s eta 0:00:01\r\u001b[K     |███████████████████▎            | 829kB 5.4MB/s eta 0:00:01\r\u001b[K     |███████████████████▋            | 839kB 5.4MB/s eta 0:00:01\r\u001b[K     |███████████████████▉            | 849kB 5.4MB/s eta 0:00:01\r\u001b[K     |████████████████████            | 860kB 5.4MB/s eta 0:00:01\r\u001b[K     |████████████████████▎           | 870kB 5.4MB/s eta 0:00:01\r\u001b[K     |████████████████████▌           | 880kB 5.4MB/s eta 0:00:01\r\u001b[K     |████████████████████▊           | 890kB 5.4MB/s eta 0:00:01\r\u001b[K     |█████████████████████           | 901kB 5.4MB/s eta 0:00:01\r\u001b[K     |█████████████████████▎          | 911kB 5.4MB/s eta 0:00:01\r\u001b[K     |█████████████████████▌          | 921kB 5.4MB/s eta 0:00:01\r\u001b[K     |█████████████████████▊          | 931kB 5.4MB/s eta 0:00:01\r\u001b[K     |██████████████████████          | 942kB 5.4MB/s eta 0:00:01\r\u001b[K     |██████████████████████▏         | 952kB 5.4MB/s eta 0:00:01\r\u001b[K     |██████████████████████▍         | 962kB 5.4MB/s eta 0:00:01\r\u001b[K     |██████████████████████▋         | 972kB 5.4MB/s eta 0:00:01\r\u001b[K     |███████████████████████         | 983kB 5.4MB/s eta 0:00:01\r\u001b[K     |███████████████████████▏        | 993kB 5.4MB/s eta 0:00:01\r\u001b[K     |███████████████████████▍        | 1.0MB 5.4MB/s eta 0:00:01\r\u001b[K     |███████████████████████▋        | 1.0MB 5.4MB/s eta 0:00:01\r\u001b[K     |███████████████████████▉        | 1.0MB 5.4MB/s eta 0:00:01\r\u001b[K     |████████████████████████        | 1.0MB 5.4MB/s eta 0:00:01\r\u001b[K     |████████████████████████▎       | 1.0MB 5.4MB/s eta 0:00:01\r\u001b[K     |████████████████████████▋       | 1.1MB 5.4MB/s eta 0:00:01\r\u001b[K     |████████████████████████▉       | 1.1MB 5.4MB/s eta 0:00:01\r\u001b[K     |█████████████████████████       | 1.1MB 5.4MB/s eta 0:00:01\r\u001b[K     |█████████████████████████▎      | 1.1MB 5.4MB/s eta 0:00:01\r\u001b[K     |█████████████████████████▌      | 1.1MB 5.4MB/s eta 0:00:01\r\u001b[K     |█████████████████████████▊      | 1.1MB 5.4MB/s eta 0:00:01\r\u001b[K     |██████████████████████████      | 1.1MB 5.4MB/s eta 0:00:01\r\u001b[K     |██████████████████████████▎     | 1.1MB 5.4MB/s eta 0:00:01\r\u001b[K     |██████████████████████████▌     | 1.1MB 5.4MB/s eta 0:00:01\r\u001b[K     |██████████████████████████▊     | 1.1MB 5.4MB/s eta 0:00:01\r\u001b[K     |███████████████████████████     | 1.2MB 5.4MB/s eta 0:00:01\r\u001b[K     |███████████████████████████▏    | 1.2MB 5.4MB/s eta 0:00:01\r\u001b[K     |███████████████████████████▍    | 1.2MB 5.4MB/s eta 0:00:01\r\u001b[K     |███████████████████████████▋    | 1.2MB 5.4MB/s eta 0:00:01\r\u001b[K     |████████████████████████████    | 1.2MB 5.4MB/s eta 0:00:01\r\u001b[K     |████████████████████████████▏   | 1.2MB 5.4MB/s eta 0:00:01\r\u001b[K     |████████████████████████████▍   | 1.2MB 5.4MB/s eta 0:00:01\r\u001b[K     |████████████████████████████▋   | 1.2MB 5.4MB/s eta 0:00:01\r\u001b[K     |████████████████████████████▉   | 1.2MB 5.4MB/s eta 0:00:01\r\u001b[K     |█████████████████████████████   | 1.2MB 5.4MB/s eta 0:00:01\r\u001b[K     |█████████████████████████████▍  | 1.3MB 5.4MB/s eta 0:00:01\r\u001b[K     |█████████████████████████████▋  | 1.3MB 5.4MB/s eta 0:00:01\r\u001b[K     |█████████████████████████████▉  | 1.3MB 5.4MB/s eta 0:00:01\r\u001b[K     |██████████████████████████████  | 1.3MB 5.4MB/s eta 0:00:01\r\u001b[K     |██████████████████████████████▎ | 1.3MB 5.4MB/s eta 0:00:01\r\u001b[K     |██████████████████████████████▌ | 1.3MB 5.4MB/s eta 0:00:01\r\u001b[K     |██████████████████████████████▊ | 1.3MB 5.4MB/s eta 0:00:01\r\u001b[K     |███████████████████████████████ | 1.3MB 5.4MB/s eta 0:00:01\r\u001b[K     |███████████████████████████████▎| 1.3MB 5.4MB/s eta 0:00:01\r\u001b[K     |███████████████████████████████▌| 1.4MB 5.4MB/s eta 0:00:01\r\u001b[K     |███████████████████████████████▊| 1.4MB 5.4MB/s eta 0:00:01\r\u001b[K     |████████████████████████████████| 1.4MB 5.4MB/s eta 0:00:01\r\u001b[K     |████████████████████████████████| 1.4MB 5.4MB/s \n",
            "\u001b[?25hRequirement already satisfied: numpy>=1.18.1 in /usr/local/lib/python3.6/dist-packages (from bezier) (1.19.5)\n",
            "Installing collected packages: bezier\n",
            "Successfully installed bezier-2020.5.19\n"
          ],
          "name": "stdout"
        }
      ]
    },
    {
      "cell_type": "code",
      "metadata": {
        "id": "3SLBn3ol0jGO"
      },
      "source": [
        "import bezier\n",
        "import matplotlib.pyplot as plt\n",
        "import numpy as np\n",
        "import random\n",
        "from scipy.spatial import ConvexHull\n",
        "from functools import reduce"
      ],
      "execution_count": 3,
      "outputs": []
    },
    {
      "cell_type": "markdown",
      "metadata": {
        "id": "Gu_xjNjd0jGb"
      },
      "source": [
        "# Translation points to Bezier representation"
      ]
    },
    {
      "cell_type": "code",
      "metadata": {
        "id": "4l4fR9y-0jGc"
      },
      "source": [
        "nodes = np.asfortranarray([\n",
        "        [1, 1.5, 2.5, 3],\n",
        "        [1, 1.5 , 0.5, 1],\n",
        "    ])\n",
        "curve = bezier.Curve(nodes, degree=3)"
      ],
      "execution_count": 4,
      "outputs": []
    },
    {
      "cell_type": "code",
      "metadata": {
        "colab": {
          "base_uri": "https://localhost:8080/",
          "height": 282
        },
        "id": "oAGAWurx0jGe",
        "outputId": "7d1d2d2a-a182-496d-feb4-d1b5a15bbc40"
      },
      "source": [
        "curve.plot(100)\n",
        "plt.plot([0.01 * i for i in range(100)], [0.01 * i for i in range(100)])\n",
        "plt.plot([0.01 * i + 3 for i in range(100)], [0.01 * i + 1 for i in range(100)])"
      ],
      "execution_count": 5,
      "outputs": [
        {
          "output_type": "execute_result",
          "data": {
            "text/plain": [
              "[<matplotlib.lines.Line2D at 0x7fcc6133b4a8>]"
            ]
          },
          "metadata": {
            "tags": []
          },
          "execution_count": 5
        },
        {
          "output_type": "display_data",
          "data": {
            "image/png": "[encoded data removed]",
            "text/plain": [
              "<Figure size 432x288 with 1 Axes>"
            ]
          },
          "metadata": {
            "tags": [],
            "needs_background": "light"
          }
        }
      ]
    },
    {
      "cell_type": "code",
      "metadata": {
        "colab": {
          "base_uri": "https://localhost:8080/"
        },
        "id": "_lotqm2G0jGg",
        "outputId": "dc1201f1-9e5f-498c-9d69-f0f7a8b025cf"
      },
      "source": [
        "curve.evaluate(0.5).T[0]"
      ],
      "execution_count": 6,
      "outputs": [
        {
          "output_type": "execute_result",
          "data": {
            "text/plain": [
              "array([2., 1.])"
            ]
          },
          "metadata": {
            "tags": []
          },
          "execution_count": 6
        }
      ]
    },
    {
      "cell_type": "code",
      "metadata": {
        "id": "1MJswzI-0jGh"
      },
      "source": [
        "def get_vector(segment):\n",
        "    return np.array(segment[1] - segment[0])"
      ],
      "execution_count": 7,
      "outputs": []
    },
    {
      "cell_type": "code",
      "metadata": {
        "colab": {
          "base_uri": "https://localhost:8080/"
        },
        "id": "Em8Huchf0jGj",
        "outputId": "bd013113-4ff9-47af-f70c-f893dea01c0d"
      },
      "source": [
        "get_vector(np.array([[1, 1], [2, 3]]))"
      ],
      "execution_count": 8,
      "outputs": [
        {
          "output_type": "execute_result",
          "data": {
            "text/plain": [
              "array([1, 2])"
            ]
          },
          "metadata": {
            "tags": []
          },
          "execution_count": 8
        }
      ]
    },
    {
      "cell_type": "code",
      "metadata": {
        "id": "zm70dE2A0jGj"
      },
      "source": [
        "def get_track(points, depth = 0.5):\n",
        "    \n",
        "    segments = []\n",
        "    curves = []\n",
        "    for i in range(len(points) // 2):\n",
        "        segments.append([points[2*i], points[2*i+1]])\n",
        "    \n",
        "    segments = np.array(segments)\n",
        "    for i in range(len(segments)):\n",
        "        s1 = segments[i]\n",
        "        s2 = segments[(i + 1) % len(segments)]\n",
        "        \n",
        "        v1 = depth * get_vector(s1)\n",
        "        v2 = depth * get_vector(s2[::-1])\n",
        "        \n",
        "        nodes = np.vstack((s1[1], s1[1] + v1, s2[0] + v2, s2[0])).T\n",
        "        \n",
        "        curves.append(bezier.Curve(nodes, degree=3))\n",
        "    \n",
        "    return segments, curves"
      ],
      "execution_count": 9,
      "outputs": []
    },
    {
      "cell_type": "code",
      "metadata": {
        "id": "e2BH4hyZ0jGk"
      },
      "source": [
        "def draw_track(segments, curves):\n",
        "    for s in segments:\n",
        "        x_values = [s[0][0], s[1][0]]\n",
        "        y_values = [s[0][1], s[1][1]]\n",
        "        plt.plot(x_values, y_values)\n",
        "\n",
        "    i = 0\n",
        "    for c in curves:\n",
        "        xs = [c.evaluate(x).T[0][0] for x in np.linspace(0, 1, 100)]\n",
        "        ys = [c.evaluate(x).T[0][1] for x in np.linspace(0, 1, 100)]\n",
        "\n",
        "        plt.plot(xs, ys)\n",
        "\n",
        "        i += 1\n"
      ],
      "execution_count": 10,
      "outputs": []
    },
    {
      "cell_type": "code",
      "metadata": {
        "colab": {
          "base_uri": "https://localhost:8080/",
          "height": 265
        },
        "id": "vy-wFgE50jGk",
        "outputId": "67b1a684-445d-47a6-cd52-ae7d287f8088"
      },
      "source": [
        "segments, curves = get_track([[0, 0], [1, 1], [2, 1], [2, 5], [3, 5], [3, -5], [0, -5], [-3, -2]])\n",
        "draw_track(segments, curves)"
      ],
      "execution_count": 11,
      "outputs": [
        {
          "output_type": "display_data",
          "data": {
            "image/png": "[encoded data removed]",
            "text/plain": [
              "<Figure size 432x288 with 1 Axes>"
            ]
          },
          "metadata": {
            "tags": [],
            "needs_background": "light"
          }
        }
      ]
    },
    {
      "cell_type": "code",
      "metadata": {
        "colab": {
          "base_uri": "https://localhost:8080/",
          "height": 265
        },
        "id": "gDfJIxVN0jGm",
        "outputId": "3aab504c-2be1-4462-9932-f8d7a2dd2d25"
      },
      "source": [
        "segments, curves = get_track([[0, 0], [1, 1], [2, 2], [2, 0]])\n",
        "draw_track(segments, curves)"
      ],
      "execution_count": 12,
      "outputs": [
        {
          "output_type": "display_data",
          "data": {
            "image/png": "[encoded data removed]",
            "text/plain": [
              "<Figure size 432x288 with 1 Axes>"
            ]
          },
          "metadata": {
            "tags": [],
            "needs_background": "light"
          }
        }
      ]
    },
    {
      "cell_type": "code",
      "metadata": {
        "colab": {
          "base_uri": "https://localhost:8080/",
          "height": 265
        },
        "id": "bIIKluym0jGo",
        "outputId": "13f737c7-a4b3-4980-882e-feb7fbdf3c21"
      },
      "source": [
        "segments, curves = get_track([[0, 0], [0, 1], [2, 1], [2, 0]])\n",
        "draw_track(segments, curves)"
      ],
      "execution_count": 13,
      "outputs": [
        {
          "output_type": "display_data",
          "data": {
            "image/png": "[encoded data removed]",
            "text/plain": [
              "<Figure size 432x288 with 1 Axes>"
            ]
          },
          "metadata": {
            "tags": [],
            "needs_background": "light"
          }
        }
      ]
    },
    {
      "cell_type": "code",
      "metadata": {
        "colab": {
          "base_uri": "https://localhost:8080/",
          "height": 265
        },
        "id": "M0nBXRji0jGp",
        "outputId": "10fc66c4-5ef3-4cbc-f462-624eb1a45d22"
      },
      "source": [
        "segments, curves = get_track([[random.randrange(-10, 10), random.randrange(-10, 10)] for _ in range(8)])\n",
        "draw_track(segments, curves)"
      ],
      "execution_count": 14,
      "outputs": [
        {
          "output_type": "display_data",
          "data": {
            "image/png": "[encoded data removed]",
            "text/plain": [
              "<Figure size 432x288 with 1 Axes>"
            ]
          },
          "metadata": {
            "tags": [],
            "needs_background": "light"
          }
        }
      ]
    },
    {
      "cell_type": "code",
      "metadata": {
        "colab": {
          "base_uri": "https://localhost:8080/",
          "height": 734
        },
        "id": "nZ2DS7zZ0jGp",
        "outputId": "59d4b8ec-c372-4087-de75-28663e922468"
      },
      "source": [
        "points = np.array([[random.randrange(-10, 10), random.randrange(-10, 10)] for _ in range(19)])\n",
        "\n",
        "print(points)\n",
        "print()\n",
        "print(points[ConvexHull(points).vertices])\n",
        "segments, curves = get_track(points[ConvexHull(points).vertices])\n",
        "draw_track(segments, curves)"
      ],
      "execution_count": 15,
      "outputs": [
        {
          "output_type": "stream",
          "text": [
            "[[ -6 -10]\n",
            " [  7   5]\n",
            " [  3  -2]\n",
            " [ -2  -1]\n",
            " [  3  -5]\n",
            " [-10   5]\n",
            " [  5   2]\n",
            " [  8   9]\n",
            " [  3 -10]\n",
            " [ -4  -3]\n",
            " [  9  -4]\n",
            " [ -9   6]\n",
            " [  2  -7]\n",
            " [  6  -6]\n",
            " [  8  -6]\n",
            " [  9  -8]\n",
            " [  1   4]\n",
            " [ -1   4]\n",
            " [ -2   2]]\n",
            "\n",
            "[[-10   5]\n",
            " [ -6 -10]\n",
            " [  3 -10]\n",
            " [  9  -8]\n",
            " [  9  -4]\n",
            " [  8   9]\n",
            " [ -9   6]]\n"
          ],
          "name": "stdout"
        },
        {
          "output_type": "display_data",
          "data": {
            "image/png": "[encoded data removed]",
            "text/plain": [
              "<Figure size 432x288 with 1 Axes>"
            ]
          },
          "metadata": {
            "tags": [],
            "needs_background": "light"
          }
        }
      ]
    },
    {
      "cell_type": "markdown",
      "metadata": {
        "id": "ciyZWYm-0jGp"
      },
      "source": [
        "# Translation of Bezier representation to Torcs representation"
      ]
    },
    {
      "cell_type": "code",
      "metadata": {
        "id": "uJeJ8fjB0jGp"
      },
      "source": [
        "def translate_curve(curve, K = 50):\n",
        "    vecs = []\n",
        "    vals = []\n",
        "    anses = []\n",
        "    for i in np.linspace(0,1, K + 1):\n",
        "        # print(i)\n",
        "        t = curve.evaluate_hodograph(i)\n",
        "        tp = np.array([t[1], -t[0]])\n",
        "        vecs += [tp]\n",
        "        v = curve.evaluate(i)\n",
        "        vals += [v]\n",
        "        # print(v)\n",
        "\n",
        "    for i in range(K):\n",
        "        start_pos = vals[i]\n",
        "        end_pos = vals[i+1]\n",
        "        start_vec = vecs[i]\n",
        "        end_vec = vecs[i+1]\n",
        "\n",
        "        m = np.concatenate([start_vec, end_vec], axis=1)\n",
        "        ans = np.linalg.inv(m) @ (end_pos - start_pos)\n",
        "\n",
        "        d = np.linalg.det(m)\n",
        "\n",
        "        p = start_pos + ans[0,0] * start_vec\n",
        "        \n",
        "        v1 = p - start_pos\n",
        "        v2 = p - end_pos\n",
        "\n",
        "        r1 = np.linalg.norm(v1)\n",
        "        r2 = np.linalg.norm(v2)\n",
        "        \n",
        "        hmm = max(-1, min(1, v1.T.dot(v2)[0][0] / (r1 * r2)))\n",
        "        #print(hmm)\n",
        "        arc =  np.degrees(np.arccos(hmm))\n",
        "        #print(arc)\n",
        "        \n",
        "        if hmm == 1:\n",
        "            anses += [(\"Str\", np.linalg.norm(start_pos - end_pos))]\n",
        "        else:\n",
        "            anses += [(\"Arc\", r1, r2, arc, d>0)]\n",
        "        \n",
        "    # for ans in anses:\n",
        "    #     print(ans)\n",
        "    return anses"
      ],
      "execution_count": 16,
      "outputs": []
    },
    {
      "cell_type": "code",
      "metadata": {
        "id": "IuonpLci0jGr"
      },
      "source": [
        "def fill_section_cur(id, left, deg, radius, end_radius):\n",
        "    w = \"rgt\" if not left else \"lft\"\n",
        "    return f\"\"\"\n",
        "<section name=\"curve {id}\">\n",
        "    <attstr name=\"type\" val=\"{w}\" />\n",
        "    <attnum name=\"arc\" unit=\"deg\" val=\"{deg}\" />\n",
        "    <attnum name=\"radius\" unit=\"m\" val=\"{radius}\" />\n",
        "    <attnum name=\"end radius\" unit=\"m\" val=\"{end_radius}\" />\n",
        "    <attnum name=\"z start\" unit=\"m\" val=\"0.0\" />\n",
        "    <attnum name=\"z end\" unit=\"m\" val=\"0.0\" />\n",
        "    <attstr name=\"surface\" val=\"asphalt2-lines\" />\n",
        "    <!--Left part of segment-->\n",
        "    <section name=\"Left Side\">\n",
        "        <attnum name=\"start width\" unit=\"m\" val=\"4.0\" />\n",
        "        <attnum name=\"end width\" unit=\"m\" val=\"4.0\" />\n",
        "        <attstr name=\"surface\" val=\"grass\" />\n",
        "    </section>\n",
        "    <section name=\"Left Border\">\n",
        "        <attnum name=\"width\" unit=\"m\" val=\"0.5\" />\n",
        "        <attnum name=\"height\" unit=\"m\" val=\"0.05\" />\n",
        "        <attstr name=\"surface\" val=\"curb-5cm-r\" />\n",
        "        <attstr name=\"style\" val=\"plan\" />\n",
        "    </section>\n",
        "    <section name=\"Left Barrier\">\n",
        "        <attnum name=\"width\" unit=\"m\" val=\"0.1\" />\n",
        "        <attnum name=\"height\" unit=\"m\" val=\"1.0\" />\n",
        "        <attstr name=\"surface\" val=\"barrier\" />\n",
        "        <attstr name=\"style\" val=\"curb\" />\n",
        "    </section>\n",
        "    <!--End of left part-->\n",
        "    <!--Right part of segment-->\n",
        "    <section name=\"Right Side\">\n",
        "        <attnum name=\"start width\" unit=\"m\" val=\"4.0\" />\n",
        "        <attnum name=\"end width\" unit=\"m\" val=\"4.0\" />\n",
        "        <attstr name=\"surface\" val=\"grass\" />\n",
        "    </section>\n",
        "    <section name=\"Right Border\">\n",
        "        <attnum name=\"width\" unit=\"m\" val=\"0.5\" />\n",
        "        <attnum name=\"height\" unit=\"m\" val=\"0.05\" />\n",
        "        <attstr name=\"surface\" val=\"curb-5cm-r\" />\n",
        "        <attstr name=\"style\" val=\"plan\" />\n",
        "    </section>\n",
        "    <section name=\"Right Barrier\">\n",
        "        <attnum name=\"width\" unit=\"m\" val=\"0.1\" />\n",
        "        <attnum name=\"height\" unit=\"m\" val=\"1.0\" />\n",
        "        <attstr name=\"surface\" val=\"barrier\" />\n",
        "        <attstr name=\"style\" val=\"curb\" />\n",
        "    </section>\n",
        "    <!--End of right part-->\n",
        "    </section>\n",
        "      \"\"\""
      ],
      "execution_count": 17,
      "outputs": []
    },
    {
      "cell_type": "code",
      "metadata": {
        "id": "LUmuB9U20jGr"
      },
      "source": [
        "def fill_section_str(id, length):\n",
        "    return f\"\"\"\n",
        "<section name=\"straight {id}\">\n",
        "    <attstr name=\"type\" val=\"str\" />\n",
        "    <attnum name=\"lg\" unit=\"m\" val=\"{length}\" />\n",
        "    <attnum name=\"z start\" unit=\"m\" val=\"0.0\" />\n",
        "    <attnum name=\"z end\" unit=\"m\" val=\"0.0\" />\n",
        "    <attstr name=\"surface\" val=\"asphalt2-lines\" />\n",
        "    <!--Left part of segment-->\n",
        "    <section name=\"Left Side\">\n",
        "        <attnum name=\"start width\" unit=\"m\" val=\"4.0\" />\n",
        "        <attnum name=\"end width\" unit=\"m\" val=\"4.0\" />\n",
        "        <attstr name=\"surface\" val=\"grass\" />\n",
        "    </section>\n",
        "    <section name=\"Left Border\">\n",
        "        <attnum name=\"width\" unit=\"m\" val=\"0.5\" />\n",
        "        <attnum name=\"height\" unit=\"m\" val=\"0.05\" />\n",
        "        <attstr name=\"surface\" val=\"curb-5cm-r\" />\n",
        "        <attstr name=\"style\" val=\"plan\" />\n",
        "    </section>\n",
        "    <section name=\"Left Barrier\">\n",
        "        <attnum name=\"width\" unit=\"m\" val=\"0.1\" />\n",
        "        <attnum name=\"height\" unit=\"m\" val=\"1.0\" />\n",
        "        <attstr name=\"surface\" val=\"barrier\" />\n",
        "        <attstr name=\"style\" val=\"curb\" />\n",
        "    </section>\n",
        "    <!--End of left part-->\n",
        "    <!--Right part of segment-->\n",
        "    <section name=\"Right Side\">\n",
        "        <attnum name=\"start width\" unit=\"m\" val=\"4.0\" />\n",
        "        <attnum name=\"end width\" unit=\"m\" val=\"4.0\" />\n",
        "        <attstr name=\"surface\" val=\"grass\" />\n",
        "    </section>\n",
        "    <section name=\"Right Border\">\n",
        "        <attnum name=\"width\" unit=\"m\" val=\"0.5\" />\n",
        "        <attnum name=\"height\" unit=\"m\" val=\"0.05\" />\n",
        "        <attstr name=\"surface\" val=\"curb-5cm-r\" />\n",
        "        <attstr name=\"style\" val=\"plan\" />\n",
        "    </section>\n",
        "    <section name=\"Right Barrier\">\n",
        "        <attnum name=\"width\" unit=\"m\" val=\"0.1\" />\n",
        "        <attnum name=\"height\" unit=\"m\" val=\"1.0\" />\n",
        "        <attstr name=\"surface\" val=\"barrier\" />\n",
        "        <attstr name=\"style\" val=\"curb\" />\n",
        "    </section>\n",
        "    <!--End of right part-->\n",
        "    </section>\n",
        "      \"\"\""
      ],
      "execution_count": 18,
      "outputs": []
    },
    {
      "cell_type": "code",
      "metadata": {
        "id": "nMD_JIPM0jGr"
      },
      "source": [
        "def get_len(s):\n",
        "    return np.sqrt((s[1][0] - s[0][0]) ** 2 + (s[1][1] - s[0][1]) ** 2)"
      ],
      "execution_count": 19,
      "outputs": []
    },
    {
      "cell_type": "code",
      "metadata": {
        "id": "pnmQnaYi0jGs"
      },
      "source": [
        "def to_xml(segments, curves):\n",
        "    res  = \"\"\n",
        "    id = 0\n",
        "    for i in range(len(segments)):\n",
        "        res += fill_section_str(id, get_len(segments[i]) * 100)\n",
        "        id += 1\n",
        "        anses = translate_curve(curves[i], 100)\n",
        "\n",
        "        for j in range(len(anses)):\n",
        "            ans = anses[j]\n",
        "            if ans[0] == \"Arc\":\n",
        "                r1, r2, arc, left = ans[1:]\n",
        "                res += fill_section_cur(id, left, arc, 100*r1, 100*r2)\n",
        "                id += 1\n",
        "            else:\n",
        "                length, = ans[1:]\n",
        "                res += fill_section_str(id, length * 100)\n",
        "                id += 1\n",
        "\n",
        "    return res"
      ],
      "execution_count": 20,
      "outputs": []
    },
    {
      "cell_type": "code",
      "metadata": {
        "colab": {
          "base_uri": "https://localhost:8080/",
          "height": 265
        },
        "id": "C9fGSuR-0jGs",
        "outputId": "a969d310-a13c-42af-b76b-d1cd0cde1356"
      },
      "source": [
        "segments, curves = get_track(np.array([[0, 0], [1, 1], [4, 1], [4, 5], [7, 5], [6, 4], [5, -2], [7, -5], [5, -5], [2, -2], [0, -5], [-3, -2]]))\n",
        "draw_track(segments, curves)\n",
        "res = to_xml(segments, curves)"
      ],
      "execution_count": 21,
      "outputs": [
        {
          "output_type": "display_data",
          "data": {
            "image/png": "[encoded data removed]",
            "text/plain": [
              "<Figure size 432x288 with 1 Axes>"
            ]
          },
          "metadata": {
            "tags": [],
            "needs_background": "light"
          }
        }
      ]
    },
    {
      "cell_type": "code",
      "metadata": {
        "id": "pox5aiXU0jGs"
      },
      "source": [
        "def save_to_file(s):\n",
        "    with open('output.txt', \"w\") as f:\n",
        "        f.write(s)"
      ],
      "execution_count": 22,
      "outputs": []
    },
    {
      "cell_type": "code",
      "metadata": {
        "id": "Zm8GfJmc0jGt"
      },
      "source": [
        "save_to_file(res)"
      ],
      "execution_count": 23,
      "outputs": []
    },
    {
      "cell_type": "markdown",
      "metadata": {
        "id": "6G_cVWyQ0jGt"
      },
      "source": [
        "# Curwature Entropy"
      ]
    },
    {
      "cell_type": "code",
      "metadata": {
        "colab": {
          "base_uri": "https://localhost:8080/",
          "height": 300
        },
        "id": "TKstLUIG0jGu",
        "outputId": "f10b0320-b2a9-4396-a2ef-81a765756daf"
      },
      "source": [
        "print(curve.length)\n",
        "curve.plot(100)"
      ],
      "execution_count": 24,
      "outputs": [
        {
          "output_type": "stream",
          "text": [
            "2.1146474185471185\n"
          ],
          "name": "stdout"
        },
        {
          "output_type": "execute_result",
          "data": {
            "text/plain": [
              "<matplotlib.axes._subplots.AxesSubplot at 0x7fcc60cda9b0>"
            ]
          },
          "metadata": {
            "tags": []
          },
          "execution_count": 24
        },
        {
          "output_type": "display_data",
          "data": {
            "image/png": "[encoded data removed]",
            "text/plain": [
              "<Figure size 432x288 with 1 Axes>"
            ]
          },
          "metadata": {
            "tags": [],
            "needs_background": "light"
          }
        }
      ]
    },
    {
      "cell_type": "code",
      "metadata": {
        "colab": {
          "base_uri": "https://localhost:8080/",
          "height": 300
        },
        "id": "DdoGB89U0jGu",
        "outputId": "73525fd0-792e-4be1-de9f-240e2827dcc4"
      },
      "source": [
        "curve2 = curve.specialize(0.1, 0.6)\n",
        "print(curve2.length)\n",
        "curve2.plot(100)"
      ],
      "execution_count": 25,
      "outputs": [
        {
          "output_type": "stream",
          "text": [
            "1.0948198154137423\n"
          ],
          "name": "stdout"
        },
        {
          "output_type": "execute_result",
          "data": {
            "text/plain": [
              "<matplotlib.axes._subplots.AxesSubplot at 0x7fcc5830c080>"
            ]
          },
          "metadata": {
            "tags": []
          },
          "execution_count": 25
        },
        {
          "output_type": "display_data",
          "data": {
            "image/png": "[encoded data removed]",
            "text/plain": [
              "<Figure size 432x288 with 1 Axes>"
            ]
          },
          "metadata": {
            "tags": [],
            "needs_background": "light"
          }
        }
      ]
    },
    {
      "cell_type": "code",
      "metadata": {
        "id": "s1WF4nwp0jGv"
      },
      "source": [
        "def get_curve_stats(curve, K = 50):\n",
        "    vecs = []\n",
        "    vals = []\n",
        "    turns = []\n",
        "    lengths = []\n",
        "    for i in np.linspace(0,1, K + 1):\n",
        "        t = curve.evaluate_hodograph(i)\n",
        "        tp = np.array([t[1], -t[0]])\n",
        "        vecs += [tp]\n",
        "        v = curve.evaluate(i)\n",
        "        vals += [v]\n",
        "\n",
        "    for i in range(K):\n",
        "        start_pos = vals[i]\n",
        "        end_pos = vals[i+1]\n",
        "        start_vec = vecs[i]\n",
        "        end_vec = vecs[i+1]\n",
        "        \n",
        "        cut = curve.specialize(i / K, (i + 1) / K)\n",
        "\n",
        "        m = np.concatenate([start_vec, end_vec], axis=1)\n",
        "        ans = np.linalg.inv(m) @ (end_pos - start_pos)\n",
        "\n",
        "        d = np.linalg.det(m)\n",
        "\n",
        "        p = start_pos + ans[0,0] * start_vec\n",
        "        \n",
        "        v1 = p - start_pos\n",
        "        v2 = p - end_pos\n",
        "\n",
        "        r1 = np.linalg.norm(v1)\n",
        "        r2 = np.linalg.norm(v2)\n",
        "        \n",
        "        \n",
        "        if max(-1, min(1, v1.T.dot(v2)[0][0] / (r1 * r2))) == 1:\n",
        "            turns.append(0) \n",
        "            lengths.append(np.linalg.norm(start_pos - end_pos))\n",
        "        else:\n",
        "            turns.append(1 / ((r1 + r2) / 2) * np.sign(d))\n",
        "            lengths.append(cut.length)\n",
        "        \n",
        "    return turns, lengths"
      ],
      "execution_count": 26,
      "outputs": []
    },
    {
      "cell_type": "code",
      "metadata": {
        "colab": {
          "base_uri": "https://localhost:8080/"
        },
        "id": "pobiPffQ0jGv",
        "outputId": "7263fcb7-c3c3-4e0a-c36f-fe03aa2b4438"
      },
      "source": [
        "get_curve_stats(curve)"
      ],
      "execution_count": 27,
      "outputs": [
        {
          "output_type": "execute_result",
          "data": {
            "text/plain": [
              "([-1.9555541277811728,\n",
              "  -2.0719880724876085,\n",
              "  -2.1438580335885122,\n",
              "  -2.1643931845959616,\n",
              "  -2.132654239880537,\n",
              "  -2.0535546088632315,\n",
              "  -1.936433023384818,\n",
              "  -1.7928222299377277,\n",
              "  -1.6342467650878307,\n",
              "  -1.4706437594664699,\n",
              "  -1.309591963355863,\n",
              "  -1.156216165740873,\n",
              "  -1.0135048734717482,\n",
              "  -0.8827968751037079,\n",
              "  -0.7642728886811363,\n",
              "  -0.65737017847869,\n",
              "  -0.5610952414587512,\n",
              "  -0.47424069604143293,\n",
              "  -0.3955248673958387,\n",
              "  -0.3236744363705301,\n",
              "  -0.2574677348603268,\n",
              "  -0.19575215019567682,\n",
              "  -0.13744520183274306,\n",
              "  -0.08152572696602668,\n",
              "  -0.02701932735316463,\n",
              "  0.027019327353164313,\n",
              "  0.08152572696602739,\n",
              "  0.1374452018327414,\n",
              "  0.19575215019567732,\n",
              "  0.2574677348603244,\n",
              "  0.32367443637053217,\n",
              "  0.39552486739584164,\n",
              "  0.47424069604143376,\n",
              "  0.5610952414587486,\n",
              "  0.6573701784786926,\n",
              "  0.7642728886811374,\n",
              "  0.8827968751037089,\n",
              "  1.0135048734717456,\n",
              "  1.156216165740866,\n",
              "  1.3095919633558455,\n",
              "  1.4706437594665005,\n",
              "  1.6342467650878374,\n",
              "  1.7928222299377066,\n",
              "  1.9364330233848175,\n",
              "  2.0535546088632413,\n",
              "  2.1326542398805337,\n",
              "  2.164393184595972,\n",
              "  2.1438580335885367,\n",
              "  2.0719880724876103,\n",
              "  1.9555541277811481],\n",
              " [0.04163439126193886,\n",
              "  0.04027501869423489,\n",
              "  0.03924614893489296,\n",
              "  0.038533015778606725,\n",
              "  0.038113483998201615,\n",
              "  0.037959106837725146,\n",
              "  0.038036835817143726,\n",
              "  0.038311045145473,\n",
              "  0.038745510477781825,\n",
              "  0.0393050682020047,\n",
              "  0.039956817847664555,\n",
              "  0.040670855818455004,\n",
              "  0.041420610126640015,\n",
              "  0.04218287964891988,\n",
              "  0.042937680966993255,\n",
              "  0.04366798772978779,\n",
              "  0.044359424296894066,\n",
              "  0.04499995423664639,\n",
              "  0.04557958778444732,\n",
              "  0.04609012086104947,\n",
              "  0.04652491087587151,\n",
              "  0.046878690209190936,\n",
              "  0.04714741600520533,\n",
              "  0.04732815397108857,\n",
              "  0.047418993746701735,\n",
              "  0.04741899374670191,\n",
              "  0.04732815397108861,\n",
              "  0.04714741600520547,\n",
              "  0.04687869020919065,\n",
              "  0.04652491087587139,\n",
              "  0.046090120861049036,\n",
              "  0.045579587784447345,\n",
              "  0.04499995423664639,\n",
              "  0.044359424296894545,\n",
              "  0.043667987729787826,\n",
              "  0.04293768096699318,\n",
              "  0.04218287964891967,\n",
              "  0.04142061012664021,\n",
              "  0.04067085581845544,\n",
              "  0.03995681784766456,\n",
              "  0.0393050682020047,\n",
              "  0.03874551047778156,\n",
              "  0.038311045145472795,\n",
              "  0.03803683581714373,\n",
              "  0.037959106837725555,\n",
              "  0.03811348399820206,\n",
              "  0.038533015778605434,\n",
              "  0.03924614893489315,\n",
              "  0.040275018694235123,\n",
              "  0.041634391261938866])"
            ]
          },
          "metadata": {
            "tags": []
          },
          "execution_count": 27
        }
      ]
    },
    {
      "cell_type": "code",
      "metadata": {
        "id": "Id86Y7uZ0jGv"
      },
      "source": [
        "def get_track_stats(segments, curves):\n",
        "    turns = []\n",
        "    lengths = []\n",
        "    for s in segments:\n",
        "        turns.append(0)\n",
        "        lengths.append(get_len(s))\n",
        "    for c in curves:\n",
        "        t, l = get_curve_stats(c)\n",
        "        turns += t\n",
        "        lengths += l\n",
        "        \n",
        "    return turns, lengths"
      ],
      "execution_count": 28,
      "outputs": []
    },
    {
      "cell_type": "code",
      "metadata": {
        "colab": {
          "base_uri": "https://localhost:8080/",
          "height": 300
        },
        "id": "5Zta4cVW0jGv",
        "outputId": "8ac22a96-329e-4613-e1db-bda2c3ee00cb"
      },
      "source": [
        "segments, curves = get_track(np.array([[0, 0], [1, 1], [4, 1], [4, 5], [7, 5], [6, 4], [5, -2], [7, -5], [5, -5], [2, -2], [0, -5], [-3, -2]]))\n",
        "draw_track(segments, curves)\n",
        "res, _ = get_track_stats(segments, curves)\n",
        "print(max(res))\n",
        "print(min(res))"
      ],
      "execution_count": 29,
      "outputs": [
        {
          "output_type": "stream",
          "text": [
            "4.216769867229083\n",
            "-6.803234075133655\n"
          ],
          "name": "stdout"
        },
        {
          "output_type": "display_data",
          "data": {
            "image/png": "[encoded data removed]",
            "text/plain": [
              "<Figure size 432x288 with 1 Axes>"
            ]
          },
          "metadata": {
            "tags": [],
            "needs_background": "light"
          }
        }
      ]
    },
    {
      "cell_type": "code",
      "metadata": {
        "colab": {
          "base_uri": "https://localhost:8080/",
          "height": 352
        },
        "id": "W7GWNcPE0jGw",
        "outputId": "f244a2cb-7a07-47ec-9086-e968261f306b"
      },
      "source": [
        "plt.hist(res)"
      ],
      "execution_count": 30,
      "outputs": [
        {
          "output_type": "execute_result",
          "data": {
            "text/plain": [
              "(array([  3.,   3.,   8.,  13.,  24.,  99., 125.,  17.,  10.,   4.]),\n",
              " array([-6.80323408, -5.70123368, -4.59923329, -3.49723289, -2.3952325 ,\n",
              "        -1.2932321 , -0.19123171,  0.91076868,  2.01276908,  3.11476947,\n",
              "         4.21676987]),\n",
              " <a list of 10 Patch objects>)"
            ]
          },
          "metadata": {
            "tags": []
          },
          "execution_count": 30
        },
        {
          "output_type": "display_data",
          "data": {
            "image/png": "[encoded data removed]",
            "text/plain": [
              "<Figure size 432x288 with 1 Axes>"
            ]
          },
          "metadata": {
            "tags": [],
            "needs_background": "light"
          }
        }
      ]
    },
    {
      "cell_type": "code",
      "metadata": {
        "colab": {
          "base_uri": "https://localhost:8080/",
          "height": 300
        },
        "id": "f8s1Ss4K0jGx",
        "outputId": "83dd0327-63ba-4392-b997-02987399e9ea"
      },
      "source": [
        "segments, curves = get_track(np.array([[0, 0], [1, 1], [4, 1], [4, 5], [7, 5], [6, 4], [5, -2], [7, -5], [5, -5], [2, -2], [0, -5], [-1, -3], [-2, -3.5], [-3, -2]]))\n",
        "draw_track(segments, curves)\n",
        "\n",
        "res, _ = get_track_stats(segments, curves)\n",
        "print(max(res))\n",
        "print(min(res))"
      ],
      "execution_count": 31,
      "outputs": [
        {
          "output_type": "stream",
          "text": [
            "11.427798724095716\n",
            "-18.448360662133325\n"
          ],
          "name": "stdout"
        },
        {
          "output_type": "display_data",
          "data": {
            "image/png": "[encoded data removed]",
            "text/plain": [
              "<Figure size 432x288 with 1 Axes>"
            ]
          },
          "metadata": {
            "tags": [],
            "needs_background": "light"
          }
        }
      ]
    },
    {
      "cell_type": "code",
      "metadata": {
        "colab": {
          "base_uri": "https://localhost:8080/",
          "height": 352
        },
        "id": "ZebGOIZA0jGx",
        "outputId": "3d844dbe-727a-4ba9-b1ba-55dbfd23428a"
      },
      "source": [
        "plt.hist(res)"
      ],
      "execution_count": 32,
      "outputs": [
        {
          "output_type": "execute_result",
          "data": {
            "text/plain": [
              "(array([  1.,   1.,   3.,   6.,  17.,  83., 232.,   7.,   3.,   4.]),\n",
              " array([-18.44836066, -15.46074472, -12.47312878,  -9.48551285,\n",
              "         -6.49789691,  -3.51028097,  -0.52266503,   2.46495091,\n",
              "          5.45256685,   8.44018279,  11.42779872]),\n",
              " <a list of 10 Patch objects>)"
            ]
          },
          "metadata": {
            "tags": []
          },
          "execution_count": 32
        },
        {
          "output_type": "display_data",
          "data": {
            "image/png": "[encoded data removed]",
            "text/plain": [
              "<Figure size 432x288 with 1 Axes>"
            ]
          },
          "metadata": {
            "tags": [],
            "needs_background": "light"
          }
        }
      ]
    },
    {
      "cell_type": "code",
      "metadata": {
        "colab": {
          "base_uri": "https://localhost:8080/",
          "height": 300
        },
        "id": "x1AZRgO50jGx",
        "outputId": "0d2d1d5b-c23d-4751-ea9f-0ad9000871e9"
      },
      "source": [
        "segments, curves = get_track([[0, 0], [0, 1], [2, 1], [2, 0]])\n",
        "draw_track(segments, curves)\n",
        "\n",
        "res, _ = get_track_stats(segments, curves)\n",
        "print(max(res))\n",
        "print(min(res))"
      ],
      "execution_count": 33,
      "outputs": [
        {
          "output_type": "stream",
          "text": [
            "0\n",
            "-5.514510668356622\n"
          ],
          "name": "stdout"
        },
        {
          "output_type": "display_data",
          "data": {
            "image/png": "[encoded data removed]",
            "text/plain": [
              "<Figure size 432x288 with 1 Axes>"
            ]
          },
          "metadata": {
            "tags": [],
            "needs_background": "light"
          }
        }
      ]
    },
    {
      "cell_type": "code",
      "metadata": {
        "colab": {
          "base_uri": "https://localhost:8080/",
          "height": 352
        },
        "id": "pDMPOfO60jGx",
        "outputId": "e265b57e-9ddf-4a91-f80f-e2630c17965a"
      },
      "source": [
        "plt.hist(res)"
      ],
      "execution_count": 34,
      "outputs": [
        {
          "output_type": "execute_result",
          "data": {
            "text/plain": [
              "(array([12.,  4.,  0.,  4.,  4.,  4.,  8.,  8., 20., 38.]),\n",
              " array([-5.51451067, -4.9630596 , -4.41160853, -3.86015747, -3.3087064 ,\n",
              "        -2.75725533, -2.20580427, -1.6543532 , -1.10290213, -0.55145107,\n",
              "         0.        ]),\n",
              " <a list of 10 Patch objects>)"
            ]
          },
          "metadata": {
            "tags": []
          },
          "execution_count": 34
        },
        {
          "output_type": "display_data",
          "data": {
            "image/png": "[encoded data removed]",
            "text/plain": [
              "<Figure size 432x288 with 1 Axes>"
            ]
          },
          "metadata": {
            "tags": [],
            "needs_background": "light"
          }
        }
      ]
    },
    {
      "cell_type": "code",
      "metadata": {
        "colab": {
          "base_uri": "https://localhost:8080/",
          "height": 300
        },
        "id": "YiJo5PlG0jGy",
        "outputId": "8aaf2f98-2399-49b1-bea1-d4e3e5e7def0"
      },
      "source": [
        "segments, curves = get_track(np.array([[3, 3], [4, 3], [7, 0], [7, -1], [4, -4], [3, -4], [0, -1], [0, 0]]))\n",
        "draw_track(segments, curves)\n",
        "\n",
        "res, _ = get_track_stats(segments, curves)\n",
        "print(max(res))\n",
        "print(min(res))"
      ],
      "execution_count": 35,
      "outputs": [
        {
          "output_type": "stream",
          "text": [
            "0\n",
            "-5.170494726413058\n"
          ],
          "name": "stdout"
        },
        {
          "output_type": "display_data",
          "data": {
            "image/png": "[encoded data removed]",
            "text/plain": [
              "<Figure size 432x288 with 1 Axes>"
            ]
          },
          "metadata": {
            "tags": [],
            "needs_background": "light"
          }
        }
      ]
    },
    {
      "cell_type": "code",
      "metadata": {
        "colab": {
          "base_uri": "https://localhost:8080/",
          "height": 352
        },
        "id": "Q1_ZFC_D0jGy",
        "outputId": "803e8ed1-d475-4eba-d28f-225bb61c4339"
      },
      "source": [
        "plt.hist(res)"
      ],
      "execution_count": 36,
      "outputs": [
        {
          "output_type": "execute_result",
          "data": {
            "text/plain": [
              "(array([  8.,   0.,   0.,   8.,   0.,   0.,   8.,   8.,  16., 156.]),\n",
              " array([-5.17049473, -4.65344525, -4.13639578, -3.61934631, -3.10229684,\n",
              "        -2.58524736, -2.06819789, -1.55114842, -1.03409895, -0.51704947,\n",
              "         0.        ]),\n",
              " <a list of 10 Patch objects>)"
            ]
          },
          "metadata": {
            "tags": []
          },
          "execution_count": 36
        },
        {
          "output_type": "display_data",
          "data": {
            "image/png": "[encoded data removed]",
            "text/plain": [
              "<Figure size 432x288 with 1 Axes>"
            ]
          },
          "metadata": {
            "tags": [],
            "needs_background": "light"
          }
        }
      ]
    },
    {
      "cell_type": "code",
      "metadata": {
        "id": "QbY4R_n20jGy"
      },
      "source": [
        "save_to_file(to_xml(segments, curves))"
      ],
      "execution_count": 37,
      "outputs": []
    },
    {
      "cell_type": "code",
      "metadata": {
        "id": "vQ_XJ_FM0jGy"
      },
      "source": [
        "def bin_entropy(a, bins=16, range=None, weights=None):\n",
        "    \"\"\"Calculate entropy from bins, the same is done in the paper\n",
        "    :param a: Input data\n",
        "    :param bins: int or sequence, passed to np.histogram\n",
        "    :param range: range of possible values, passed to np.histogram\n",
        "    :param range: weigths of input values, passed to np.histogram\n",
        "    \"\"\"\n",
        "\n",
        "    p, _ = np.histogram(a, bins=bins, range=range, weights=weights)\n",
        "    p1 = p[p > 0]\n",
        "    if len(p1) > 0:\n",
        "        p1 = p1 / p1.sum()\n",
        "        return -np.sum(p1 * np.log2(p1))\n",
        "    else:\n",
        "        return 0."
      ],
      "execution_count": 38,
      "outputs": []
    },
    {
      "cell_type": "code",
      "metadata": {
        "id": "9yBqOic_0jGz"
      },
      "source": [
        "def curves_entropy(points):\n",
        "    segments, curves = get_track(points)\n",
        "    turns, lengths = get_track_stats(segments, curves)\n",
        "    length = sum(lengths)\n",
        "    turns = np.array(turns)\n",
        "    lengths = np.array(lengths) / length\n",
        "    print(lengths.sum())\n",
        "    bins = [i - 8.5 for i in range(17)]\n",
        "    bins[0] = -np.inf \n",
        "    bins = [-np.inf, -7, -6, -5, -4, -3, -2, 2, 3, 4, 5, 6, 7, np.inf]\n",
        "    #bins.append(np.inf)\n",
        "    print(np.histogram(turns, bins=bins, range=None, weights=lengths))\n",
        "    print(np.histogram(turns, bins=bins, range=None, weights=lengths)[0].sum())\n",
        "    return bin_entropy(turns, bins, range=None, weights=lengths)\n",
        "    "
      ],
      "execution_count": 39,
      "outputs": []
    },
    {
      "cell_type": "code",
      "metadata": {
        "colab": {
          "base_uri": "https://localhost:8080/"
        },
        "id": "dRkLPfQA0jGz",
        "outputId": "072e06c2-f6c9-4a9d-8170-0cec13a606d1"
      },
      "source": [
        "curves_entropy([[0, 0], [1, 1], [4, 1], [4, 5], [7, 5], [6, 4], [5, -2], [7, -5], [5, -5], [2, -2], [0, -5], [-3, -2]])"
      ],
      "execution_count": 40,
      "outputs": [
        {
          "output_type": "stream",
          "text": [
            "0.9999999999999998\n",
            "(array([0.        , 0.00158775, 0.00167786, 0.00392619, 0.01182346,\n",
            "       0.01829892, 0.94450074, 0.01208559, 0.00485374, 0.00124575,\n",
            "       0.        , 0.        , 0.        ]), array([-inf,  -7.,  -6.,  -5.,  -4.,  -3.,  -2.,   2.,   3.,   4.,   5.,\n",
            "         6.,   7.,  inf]))\n",
            "0.9999999999999996\n"
          ],
          "name": "stdout"
        },
        {
          "output_type": "execute_result",
          "data": {
            "text/plain": [
              "0.44705825313847186"
            ]
          },
          "metadata": {
            "tags": []
          },
          "execution_count": 40
        }
      ]
    },
    {
      "cell_type": "code",
      "metadata": {
        "colab": {
          "base_uri": "https://localhost:8080/"
        },
        "id": "PrWnFvAd0jG0",
        "outputId": "2e01ad0e-4f8d-4dc2-d291-635852e8d00b"
      },
      "source": [
        "curves_entropy([[3, 3], [4, 3], [7, 0], [7, -1], [4, -4], [3, -4], [0, -1], [0, 0]])"
      ],
      "execution_count": 41,
      "outputs": [
        {
          "output_type": "stream",
          "text": [
            "1.0\n",
            "(array([0.        , 0.        , 0.01224309, 0.        , 0.01429538,\n",
            "       0.        , 0.97346153, 0.        , 0.        , 0.        ,\n",
            "       0.        , 0.        , 0.        ]), array([-inf,  -7.,  -6.,  -5.,  -4.,  -3.,  -2.,   2.,   3.,   4.,   5.,\n",
            "         6.,   7.,  inf]))\n",
            "1.0000000000000004\n"
          ],
          "name": "stdout"
        },
        {
          "output_type": "execute_result",
          "data": {
            "text/plain": [
              "0.20314756653886124"
            ]
          },
          "metadata": {
            "tags": []
          },
          "execution_count": 41
        }
      ]
    },
    {
      "cell_type": "code",
      "metadata": {
        "colab": {
          "base_uri": "https://localhost:8080/"
        },
        "id": "e2300zdf0jG0",
        "outputId": "76c35dfe-23cb-47ef-a6b2-b82a29cdd3e1"
      },
      "source": [
        "curves_entropy([[0, 0], [0, 1], [2, 1], [2, 0]])"
      ],
      "execution_count": 42,
      "outputs": [
        {
          "output_type": "stream",
          "text": [
            "1.0000000000000002\n",
            "(array([0.        , 0.        , 0.05347338, 0.01835213, 0.03932467,\n",
            "       0.04389396, 0.84495586, 0.        , 0.        , 0.        ,\n",
            "       0.        , 0.        , 0.        ]), array([-inf,  -7.,  -6.,  -5.,  -4.,  -3.,  -2.,   2.,   3.,   4.,   5.,\n",
            "         6.,   7.,  inf]))\n",
            "0.9999999999999999\n"
          ],
          "name": "stdout"
        },
        {
          "output_type": "execute_result",
          "data": {
            "text/plain": [
              "0.9186872204607409"
            ]
          },
          "metadata": {
            "tags": []
          },
          "execution_count": 42
        }
      ]
    },
    {
      "cell_type": "code",
      "metadata": {
        "colab": {
          "base_uri": "https://localhost:8080/"
        },
        "id": "o4aPpo5z0jG0",
        "outputId": "1557ede8-d396-4ca7-9e0b-ebb21f7daa79"
      },
      "source": [
        "bin_entropy([0,1,2,3,4,5,6,7,0,1,2,3,4,5,6,7])"
      ],
      "execution_count": 43,
      "outputs": [
        {
          "output_type": "execute_result",
          "data": {
            "text/plain": [
              "3.0"
            ]
          },
          "metadata": {
            "tags": []
          },
          "execution_count": 43
        }
      ]
    },
    {
      "cell_type": "code",
      "metadata": {
        "colab": {
          "base_uri": "https://localhost:8080/"
        },
        "id": "OdPB-QBM0jG1",
        "outputId": "ba6afa2a-0b04-4407-96d3-6ab70e4d5cbc"
      },
      "source": [
        "bin_entropy([0,1,2,3,4,5,6,7,8,9,10,11,12,13,14,15])"
      ],
      "execution_count": 44,
      "outputs": [
        {
          "output_type": "execute_result",
          "data": {
            "text/plain": [
              "4.0"
            ]
          },
          "metadata": {
            "tags": []
          },
          "execution_count": 44
        }
      ]
    },
    {
      "cell_type": "markdown",
      "metadata": {
        "id": "17918jnt0mXG"
      },
      "source": [
        "# Self-crossing"
      ]
    },
    {
      "cell_type": "code",
      "metadata": {
        "id": "tbjZ6DlK0puX"
      },
      "source": [
        "def if_crossing(segments, curves, debug=False):\n",
        "    def two_curves(fst, snd):\n",
        "        intersections = fst.intersect(snd)\n",
        "        if len(intersections[0, :]) > 0:\n",
        "            s_vals = intersections[0, :] + intersections[1, :]\n",
        "            # print(s_vals)\n",
        "            for i in s_vals:\n",
        "                if i != 0 and i != 1:\n",
        "                    return True\n",
        "        return False\n",
        "    def segment_to_curve(bg, en):\n",
        "        nodes = np.asfortranarray([\n",
        "            [bg[0], en[0]],\n",
        "            [bg[1], en[1]]\n",
        "        ])\n",
        "        return bezier.Curve(nodes, degree=1)\n",
        "    def self_cross(curve):\n",
        "        parts = 100\n",
        "        pt = np.linspace(0,1,parts+1)\n",
        "        mini_curves = [curve.specialize(a,b) for (a,b) in zip(pt, pt[1:])]\n",
        "        y = len(mini_curves)\n",
        "        for i in range(y):\n",
        "            for j in range(i+1, y):\n",
        "                if two_curves(mini_curves[i], mini_curves[j]): return True\n",
        "        return False\n",
        "\n",
        "    cnts = 0\n",
        "\n",
        "    pts = reduce(lambda a,b:a+b, [[(s[0][0], s[0][1]), (s[1][0], s[1][1])] for s in segments], [])\n",
        "    pts_set = set(pts)\n",
        "\n",
        "    if len(pts_set) != len(pts): cnts += (len(pts) - len(pts_set))\n",
        "    \n",
        "    sgms = list(map(lambda s: segment_to_curve(s[0], s[1]), segments))\n",
        "    all_parts = sgms + curves\n",
        "\n",
        "    for c in curves:\n",
        "        if self_cross(c):\n",
        "            if debug: draw_track([], [c])\n",
        "            # return True\n",
        "            cnts += 1\n",
        "\n",
        "    for i in range(len(all_parts)):\n",
        "        for j in range(i+1,len(all_parts)):\n",
        "            s = all_parts[i]\n",
        "            t = all_parts[j]\n",
        "            if two_curves(s, t):\n",
        "                if debug: draw_track([], [s,t])\n",
        "                # return True\n",
        "                cnts += 1\n",
        "\n",
        "    return cnts"
      ],
      "execution_count": 119,
      "outputs": []
    },
    {
      "cell_type": "code",
      "metadata": {
        "colab": {
          "base_uri": "https://localhost:8080/",
          "height": 265
        },
        "id": "QYieVr-o1Fyx",
        "outputId": "adb199df-0f2b-4d14-8938-cfad8cf03334"
      },
      "source": [
        "segments, curves = get_track([[random.randrange(-10, 10), random.randrange(-10, 10)] for _ in range(8)])\n",
        "draw_track(segments, curves)"
      ],
      "execution_count": 138,
      "outputs": [
        {
          "output_type": "display_data",
          "data": {
            "image/png": "[encoded data removed]",
            "text/plain": [
              "<Figure size 432x288 with 1 Axes>"
            ]
          },
          "metadata": {
            "tags": [],
            "needs_background": "light"
          }
        }
      ]
    },
    {
      "cell_type": "code",
      "metadata": {
        "colab": {
          "base_uri": "https://localhost:8080/"
        },
        "id": "Nx-mFYOK0wJD",
        "outputId": "23b9d70c-d60e-4ff1-c153-1e2ae2fb2578"
      },
      "source": [
        "if_crossing(segments, curves)"
      ],
      "execution_count": 139,
      "outputs": [
        {
          "output_type": "execute_result",
          "data": {
            "text/plain": [
              "2"
            ]
          },
          "metadata": {
            "tags": []
          },
          "execution_count": 139
        }
      ]
    },
    {
      "cell_type": "code",
      "metadata": {
        "id": "H0HJzoef1M8J"
      },
      "source": [
        ""
      ],
      "execution_count": 46,
      "outputs": []
    }
  ]
}