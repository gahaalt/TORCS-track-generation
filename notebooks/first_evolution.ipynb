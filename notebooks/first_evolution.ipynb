{
 "cells": [
  {
   "cell_type": "code",
   "execution_count": 1,
   "metadata": {},
   "outputs": [],
   "source": [
    "from tools_evolution import *"
   ]
  },
  {
   "cell_type": "code",
   "execution_count": 2,
   "metadata": {},
   "outputs": [],
   "source": [
    "evolution = Evolution(\n",
    "    n_population=30, \n",
    "    n_children=30, \n",
    "    n_elite=5,\n",
    "    track_length=8, \n",
    "    track_scale=10, \n",
    "    p_mutation=0.2, \n",
    "    eta_mutation=20\n",
    ")"
   ]
  },
  {
   "cell_type": "code",
   "execution_count": 3,
   "metadata": {},
   "outputs": [],
   "source": [
    "evolution.initialize()"
   ]
  },
  {
   "cell_type": "code",
   "execution_count": 4,
   "metadata": {},
   "outputs": [
    {
     "name": "stdout",
     "output_type": "stream",
     "text": [
      "GENERATION   0  , MAX_FITNESS  3.816, AVG_FITNESS  1.069\n"
     ]
    }
   ],
   "source": [
    "evolution.print_fitness_statistics()"
   ]
  },
  {
   "cell_type": "code",
   "execution_count": 5,
   "metadata": {},
   "outputs": [
    {
     "name": "stdout",
     "output_type": "stream",
     "text": [
      "GENERATION   1  , MAX_FITNESS  3.816, AVG_FITNESS  2.648\n",
      "GENERATION   2  , MAX_FITNESS  3.816, AVG_FITNESS  3.255\n",
      "GENERATION   3  , MAX_FITNESS  3.816, AVG_FITNESS  3.235\n",
      "GENERATION   4  , MAX_FITNESS  3.816, AVG_FITNESS  2.890\n",
      "GENERATION   5  , MAX_FITNESS  3.836, AVG_FITNESS  3.025\n",
      "GENERATION   6  , MAX_FITNESS  3.836, AVG_FITNESS  2.427\n",
      "GENERATION   7  , MAX_FITNESS  3.840, AVG_FITNESS  3.548\n",
      "GENERATION   8  , MAX_FITNESS  3.846, AVG_FITNESS  3.723\n",
      "GENERATION   9  , MAX_FITNESS  3.867, AVG_FITNESS  3.777\n",
      "GENERATION  10  , MAX_FITNESS  3.867, AVG_FITNESS  3.779\n",
      "GENERATION  11  , MAX_FITNESS  3.873, AVG_FITNESS  3.789\n",
      "GENERATION  12  , MAX_FITNESS  3.873, AVG_FITNESS  3.783\n",
      "GENERATION  13  , MAX_FITNESS  3.873, AVG_FITNESS  3.791\n",
      "GENERATION  14  , MAX_FITNESS  3.899, AVG_FITNESS  3.770\n",
      "GENERATION  15  , MAX_FITNESS  3.899, AVG_FITNESS  3.520\n"
     ]
    }
   ],
   "source": [
    "for _ in range(15):\n",
    "    evolution.step()\n",
    "    evolution.print_fitness_statistics()"
   ]
  },
  {
   "cell_type": "code",
   "execution_count": 6,
   "metadata": {},
   "outputs": [],
   "source": [
    "evolution.save_population()"
   ]
  },
  {
   "cell_type": "code",
   "execution_count": 7,
   "metadata": {},
   "outputs": [
    {
     "name": "stdout",
     "output_type": "stream",
     "text": [
      "specimen0:  3.899\n",
      "specimen1:  3.873\n",
      "specimen2:  3.867\n",
      "specimen3:  3.852\n",
      "specimen4:  3.847\n",
      "specimen5:  3.852\n",
      "specimen6:  3.822\n",
      "specimen7:  3.813\n",
      "specimen8:  3.808\n",
      "specimen9:  3.803\n",
      "specimen10:  3.788\n",
      "specimen11:  3.788\n",
      "specimen12:  3.783\n",
      "specimen13:  3.782\n",
      "specimen14:  3.775\n",
      "specimen15:  3.773\n",
      "specimen16:  3.773\n",
      "specimen17:  3.772\n",
      "specimen18:  3.770\n",
      "specimen19:  3.769\n",
      "specimen20:  3.761\n",
      "specimen21:  3.743\n",
      "specimen22:  3.739\n",
      "specimen23:  3.729\n",
      "specimen24:  3.683\n",
      "specimen25:  3.669\n",
      "specimen26:  3.604\n",
      "specimen27:  3.469\n",
      "specimen28:  0.000\n",
      "specimen29:  0.000\n"
     ]
    }
   ],
   "source": [
    "evolution.print_specimen_fitness()"
   ]
  },
  {
   "cell_type": "code",
   "execution_count": null,
   "metadata": {},
   "outputs": [],
   "source": []
  }
 ],
 "metadata": {
  "kernelspec": {
   "display_name": "Python 3",
   "language": "python",
   "name": "python3"
  },
  "language_info": {
   "codemirror_mode": {
    "name": "ipython",
    "version": 3
   },
   "file_extension": ".py",
   "mimetype": "text/x-python",
   "name": "python",
   "nbconvert_exporter": "python",
   "pygments_lexer": "ipython3",
   "version": "3.8.5"
  }
 },
 "nbformat": 4,
 "nbformat_minor": 4
}
